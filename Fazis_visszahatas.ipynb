{
 "cells": [
  {
   "cell_type": "markdown",
   "metadata": {},
   "source": [
    "# Fázis-visszahatás/visszarúgás\n",
    "\n",
    "Megtanultuk, hogy a CNOT kapu az ellenkezőjére változtatja a target (második) qubit állapotát, ha a kontroll (első) qubit értéke $|1\\rangle$, egyébként változatlanul hagyja a targetet. \n",
    "* $|00\\rangle$ $\\rightarrow$ $|00\\rangle$\n",
    "* $|01\\rangle \\rightarrow |01\\rangle$\n",
    "* $|10\\rangle \\rightarrow |11\\rangle$\n",
    "* $|11\\rangle \\rightarrow |10\\rangle$"
   ]
  },
  {
   "cell_type": "markdown",
   "metadata": {},
   "source": [
    "### Vizsgáljuk most meg, hogy mi történik az alábbi áramkörben!\n",
    "\n",
    "<img src=\"https://github.com/gubazoltan/QBronze2023/blob/main/%C3%A1br%C3%A1k/X1_H2_CNOT_circuit.png?raw=true\" width=\"150\"/>"
   ]
  },
  {
   "cell_type": "markdown",
   "metadata": {},
   "source": [
    "(Megj.: feltételezzük, hogy mindkét qubit a $|0\\rangle$ kvantumállapotban kerül inicializálásra.)\n",
    "\n",
    "A CNOT-kapu **bemenete** tehát:\n",
    "\n",
    "$\\left.\n",
    "\\begin{array}{l}\n",
    "X:|0\\rangle \\rightarrow |1\\rangle \\\\\n",
    "H:|0\\rangle \\rightarrow |+\\rangle=\\frac{1}{\\sqrt{2}}(|0\\rangle+|1\\rangle)\n",
    "\\end{array} \\quad\n",
    "\\right\\rbrace\n",
    "\\quad\n",
    "|1\\,+\\rangle=|1\\rangle \\cdot \\frac{1}{\\sqrt{2}}(|0\\rangle+|1\\rangle)=\\frac{1}{\\sqrt{2}}(|10\\rangle+|11\\rangle)$\n",
    "\n",
    "A CNOT **kimenete**:\n",
    "\n",
    "$|1\\,+\\rangle \\rightarrow \\frac{1}{\\sqrt{2}}(|11\\rangle+|10\\rangle)=|1\\rangle \\cdot \\frac{1}{\\sqrt{2}}(|0\\rangle+|1\\rangle)=|1\\,+\\rangle$\n",
    "\n",
    "#### Vagyis itt hiába 1 a kontroll qubit értéke, a target állapota mégsem változik meg.\n",
    "- Megj.: Ha a kontroll értéke nem $|1\\rangle$, hanem $|0\\rangle$ (azaz nincs X kapu) akkor természetesen nem is várhatnánk, hogy a target állapota megváltozzon "
   ]
  },
  {
   "cell_type": "markdown",
   "metadata": {},
   "source": [
    "### Nézzünk egy másik áramkört\n",
    "\n",
    "<img src=\"https://github.com/gubazoltan/QBronze2023/blob/main/%C3%A1br%C3%A1k/X1_X2_H2_CNOT_circuit.png?raw=true\" width=\"200\"/>"
   ]
  },
  {
   "cell_type": "markdown",
   "metadata": {},
   "source": [
    "Mivel $H: |1\\rangle \\rightarrow |-\\rangle=\\frac{1}{\\sqrt{2}}(|0\\rangle-|1\\rangle)$\n",
    "\n",
    "A CNOT-kapu **bemenete** most:\n",
    "\n",
    "$|1\\,-\\rangle=\\frac{1}{\\sqrt{2}}|1\\rangle(|0\\rangle-|1\\rangle)=\\frac{1}{\\sqrt{2}}(|10\\rangle-|11\\rangle)$\n",
    "\n",
    "A CNOT **kimenete** tehát:\n",
    "\n",
    "$|1\\,-\\rangle \\rightarrow \\frac{1}{\\sqrt{2}}(|11\\rangle-|10\\rangle)=-|1\\rangle \\cdot \\frac{1}{\\sqrt{2}}(|0\\rangle-|1\\rangle)=-|1\\,-\\rangle$\n",
    "\n",
    "- **Itt is hiába 1 a kontroll qubit értéke, a target állapota most sem változik meg**\n",
    "    - Magyarázat: a CNOT lényegében egy feltételes X-kapu, aminek a $|-\\rangle$ (illetve a $|+\\rangle$) állapot a \"sajátállapota\".\n",
    "    \n",
    "    \n",
    "- **Viszont mivel a target állapota $|-\\rangle$, a kontroll qubit kap egy fázist $=$ _fázis visszahatás/visszarúgás_**\n",
    "\n",
    "    - Ez a fázis itt most éppen \"nem számít\", mert globális fázis, de máskor számíthat"
   ]
  },
  {
   "cell_type": "markdown",
   "metadata": {},
   "source": [
    "### Nézzük meg, mi történik, ha szuperpozíció a bemenet!\n",
    "\n",
    "\n",
    "<img src=\"https://github.com/gubazoltan/QBronze2023/blob/main/%C3%A1br%C3%A1k/H1_X2_H2_CNOT_circuit.png?raw=true\" width=\"200\"/>\n",
    "\n",
    "A CNOT **bemenete** most: \n",
    "\n",
    "$|+\\,-\\rangle=\\frac{1}{\\sqrt{2}}\\left(|0\\rangle+|1\\rangle\\right)|-\\rangle$\n",
    "\n",
    "A fentiekben láttuk, hogy a **kétfajta bemenetre** a CNOT hatása:\n",
    "\n",
    "$|0\\,-\\rangle \\rightarrow |0\\,-\\rangle$\n",
    "\n",
    "$|1\\,-\\rangle \\rightarrow -|1\\,-\\rangle$\n",
    "\n",
    "Tehát a CNOT **kimenete** most:\n",
    "\n",
    "$|+\\,-\\rangle \\rightarrow \\frac{1}{\\sqrt{2}}(|0\\rangle-|1\\rangle)|-\\rangle=|-\\,-\\rangle$\n",
    "\n",
    "#### Vegyük észre, hogy ha ezután még mindkét qubitre hatunk egy-egy H-kapuval, \n",
    "\n",
    "<img src=\"https://github.com/gubazoltan/QBronze2023/blob/main/%C3%A1br%C3%A1k/01_to_11_inverted_CNOT.png?raw=true\" width=\"300\"/>\n",
    "\n",
    "#### akkor a \"barrier\" előtti $|01\\rangle$ kezdőállapotból az $|11\\rangle$ végállapot lesz. "
   ]
  },
  {
   "cell_type": "markdown",
   "metadata": {},
   "source": [
    "**1. Feladat:** Hozzátok létre a fenti kvantumáramkört és futtassátok le szimulátoron!<br>\n",
    "A qubitek, $q_1$ és $q_0$, kezdetben legyenek a $|01\\rangle$  állapotban, azaz inicializáljátok a <br>\n",
    "- $q_1$ kvantumbitet a  $|0\\rangle$  állapotba <br>\n",
    "- $q_0$ kvantumbitet pedig az  $|1\\rangle$ állapotba.<br>\n",
    "\n",
    "Ezután alkalmazzatok egy-egy Hadamard kaput mindkét kvantumbiten.<br>\n",
    "Majd alkalmazzatok egy CNOT kaput úgy, hogy a $q_1$ a kontroll qubit és $q_0$ a target qubit legyen.<br>\n",
    "Alkalmazzatok ismét egy-egy Hadamard kaput mindkét kvantumbiten.<br>\n",
    "Végül mérjétek meg a kvantumbiteket!"
   ]
  },
  {
   "cell_type": "code",
   "execution_count": 1,
   "metadata": {},
   "outputs": [
    {
     "data": {
      "image/png": "[encoded data removed]",
      "text/plain": [
       "<Figure size 507.852x204.68 with 1 Axes>"
      ]
     },
     "metadata": {},
     "output_type": "display_data"
    },
    {
     "name": "stdout",
     "output_type": "stream",
     "text": [
      "{'11': 100}\n"
     ]
    }
   ],
   "source": [
    "from qiskit import QuantumCircuit, execute, Aer\n",
    "\n",
    "qc = QuantumCircuit(2,2)\n",
    "\n",
    "qc.x(0)\n",
    "qc.barrier()\n",
    "\n",
    "qc.h(0)\n",
    "qc.h(1)\n",
    "\n",
    "qc.cx(1,0)\n",
    "\n",
    "qc.h(0)\n",
    "qc.h(1)\n",
    "\n",
    "qc.measure(1,1)\n",
    "qc.measure(0,0)\n",
    "\n",
    "display(qc.draw(output='mpl',reverse_bits=True))\n",
    "\n",
    "job = execute(qc,Aer.get_backend('qasm_simulator'),shots=100)\n",
    "counts = job.result().get_counts(qc)\n",
    "print(counts)"
   ]
  },
  {
   "cell_type": "markdown",
   "metadata": {},
   "source": [
    "**2. Feladat:** A többi számítási bázis bemenetre ($|00\\rangle$, $|10\\rangle$, $|11\\rangle$) is nézzétek meg a fenti áramkör hatását! Mit tapasztaltok?"
   ]
  },
  {
   "cell_type": "markdown",
   "metadata": {},
   "source": [
    "### A H-kapukkal \"szendvicselt\" CNOT tehát fordítva hat\n",
    "\n",
    "<img src=\"https://github.com/gubazoltan/QBronze2023/blob/main/%C3%A1br%C3%A1k/reversing_a_CNOT.png?raw=true\" width=\"300\"/>\n",
    "\n",
    "#### azaz a kontroll és target qubit szerepe felcserélődik."
   ]
  },
  {
   "cell_type": "markdown",
   "metadata": {},
   "source": [
    "**3. Feladat:** Hozzatok létre egy áramkört 3 qubittel ($q_2$,$q_1$,$q_0$) és inicializáljátok őket a $|001\\rangle$ állapotban.<br>\n",
    "Alkalmazzatok Hadamard kaput az összes kvantumbiten! <br>\n",
    "Alkalmazzatok 2 db CNOT kaput úgy, hogy a kontroll qubitek a $q_2$ és $q_1$, míg a target mindkét CNOT esetén a $q_0$ legyen. <br>\n",
    "Ismét alkalmazzatok Hadamard kapukat az összes kvantumbiten, majd mérjétek meg őket! <br>\n",
    "Értelmezzétek az eredményt!"
   ]
  },
  {
   "cell_type": "code",
   "execution_count": 2,
   "metadata": {},
   "outputs": [
    {
     "data": {
      "image/png": "[encoded data removed]",
      "text/plain": [
       "<Figure size 688.597x264.88 with 1 Axes>"
      ]
     },
     "metadata": {},
     "output_type": "display_data"
    },
    {
     "name": "stdout",
     "output_type": "stream",
     "text": [
      "{'111': 100}\n"
     ]
    }
   ],
   "source": [
    "from qiskit import QuantumCircuit, execute, Aer\n",
    "\n",
    "qc = QuantumCircuit(3,3)\n",
    "\n",
    "qc.x(0)\n",
    "qc.barrier()\n",
    "\n",
    "for i in range(3):\n",
    "    qc.h(i)\n",
    "\n",
    "for i in range(2):\n",
    "    qc.cx(i+1,0)\n",
    "\n",
    "for i in range(3):\n",
    "    qc.h(i)\n",
    "\n",
    "qc.barrier()\n",
    "\n",
    "for i in range(3):\n",
    "    qc.measure(i,i)\n",
    "\n",
    "display(qc.draw(output='mpl',reverse_bits=True))\n",
    "\n",
    "job = execute(qc,Aer.get_backend('qasm_simulator'),shots=100)\n",
    "counts = job.result().get_counts(qc)\n",
    "print(counts)"
   ]
  },
  {
   "cell_type": "markdown",
   "metadata": {},
   "source": [
    "**4. Feladat:** Nézzétek meg mi történik, ha az egyik, vagy mindkét CNOT kaput kihagyjátok az áramkörből! Mi lesz ezekben az esetekben a mérési eredmény a $q_2$ és $q_1$ qubiteken? "
   ]
  },
  {
   "cell_type": "markdown",
   "metadata": {},
   "source": [
    "**5. Feladat:** Végezzétek el a 4. Feladat analízisét nagyobb áramkörben is!"
   ]
  },
  {
   "cell_type": "code",
   "execution_count": null,
   "metadata": {},
   "outputs": [],
   "source": []
  }
 ],
 "metadata": {
  "interpreter": {
   "hash": "2353d288b475d2cc636ad48126075a57059af323d6ffd0a5e5428d78a33005ad"
  },
  "kernelspec": {
   "display_name": "Python 3",
   "language": "python",
   "name": "python3"
  },
  "language_info": {
   "codemirror_mode": {
    "name": "ipython",
    "version": 3
   },
   "file_extension": ".py",
   "mimetype": "text/x-python",
   "name": "python",
   "nbconvert_exporter": "python",
   "pygments_lexer": "ipython3",
   "version": "3.8.3"
  }
 },
 "nbformat": 4,
 "nbformat_minor": 2
}
