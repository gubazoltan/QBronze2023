{
 "cells": [
  {
   "cell_type": "code",
   "execution_count": 1,
   "metadata": {},
   "outputs": [],
   "source": [
    "# Importing standard Qiskit libraries\n",
    "from qiskit import QuantumCircuit, execute, Aer, IBMQ, QuantumRegister\n",
    "from qiskit.compiler import transpile, assemble\n",
    "from qiskit.tools.jupyter import *\n",
    "from qiskit.visualization import *\n",
    "from ibm_quantum_widgets import *\n",
    "\n",
    "\n",
    "import numpy as np\n",
    "import qiskit as qk\n",
    "import matplotlib.pyplot as plt\n",
    "\n",
    "from fractions import Fraction\n",
    "from qiskit.providers.ibmq import least_busy\n",
    "from qiskit.tools.monitor import job_monitor\n",
    "\n",
    "\n",
    "# Loading your IBM Q account(s)\n",
    "provider = IBMQ.load_account()"
   ]
  },
  {
   "cell_type": "code",
   "execution_count": 2,
   "metadata": {},
   "outputs": [
    {
     "name": "stdout",
     "output_type": "stream",
     "text": [
      "ibmq_quito\n"
     ]
    }
   ],
   "source": [
    "simulator = qk.BasicAer.get_backend('qasm_simulator')\n",
    "real = least_busy(provider.backends(filters=lambda x: x.configuration().n_qubits > 4,\n",
    "                                            operational=True, simulator=False))\n",
    "print(real)"
   ]
  },
  {
   "cell_type": "markdown",
   "metadata": {},
   "source": [
    "### A Bernstein-Vazarini Probléma\n",
    "\n",
    "Adott egy feketedoboz függvény ami egy $\\underline{x} = (x_1, x_2, ..., x_n)$ bitsorhoz rendel hozzá 0-t vagy 1-et:<br><br>\\begin{equation}\n",
    "f(x_1, x_2, ..., x_n) = 0 \\text{ or } 1.\n",
    "\\end{equation}\n",
    "(Minden $i$-re $x_i$ 0 vagy 1.) Tudjuk, hogy a függvény minden $\\underline{x}$ bitsor esetén egy $\\underline{s}$ bitsorral vett bitenkénti szorzatának 2 szerinti maradékát adja vissza. A bitenkénti szorzat alatt a következő műveletet értjük: $\\underline{s}\\cdot\\underline{x} = x_1\\cdot s_1 +x_2\\cdot s_2 +...+x_n\\cdot s_n$. Tehát a függvényt a következő alakban írható fel: $f(\\underline{x}) = \\underline{s}\\cdot\\underline{x} \\text{ mod } 2$. Az a feladat, hogy találjuk ki, hogy mi az $\\underline{s}$ bitsor.<br>\n",
    "\n",
    "![](https://github.com/gubazoltan/QBronze2023/blob/main/%C3%A1br%C3%A1k/Berstein-Vazirani-probl.png?raw=true)\n"
   ]
  },
  {
   "cell_type": "markdown",
   "metadata": {},
   "source": [
    "### Klasszikus megoldás"
   ]
  },
  {
   "cell_type": "markdown",
   "metadata": {},
   "source": [
    "**1. feladat (közösen csináljuk meg)**\n",
    "Gondoljuk végig, hogy hogyan oldanánk meg A Berstein-Vazarini problémát egy klasszikus számítógéppel. Hányszor kéne ehhez elvégezni az $f$ függvényt megvalósító műveletet?"
   ]
  },
  {
   "cell_type": "code",
   "execution_count": 32,
   "metadata": {},
   "outputs": [],
   "source": [
    "n = 4\n",
    "s = np.random.randint(0, 2, n)\n",
    "\n",
    "# x egy és s azonos hosszúságú numpy array-ok\n",
    "# a függvény a x és s skalárszorzatának 2 szerinti maradékát adja vissza\n",
    "def f(x, s): \n",
    "    if len(x) != n:\n",
    "        raise ValueError(\"x and s have to be of the same length\")\n",
    "    return np.dot(x, s)%2"
   ]
  },
  {
   "cell_type": "markdown",
   "metadata": {},
   "source": [
    "**2. feladat** \n",
    "Határozzuk meg a véletlenszerűen generált $s$ bitsort, anélkül, hogy kiírnánk az értékét. Használjuk az f(x, s) függvényt, ami az $\\underline{s}\\cdot\\underline{x} \\text{ mod } 2$ értéket adja vissza."
   ]
  },
  {
   "cell_type": "code",
   "execution_count": 3,
   "metadata": {
    "scrolled": true
   },
   "outputs": [],
   "source": [
    "# megoldás helye\n",
    "\n"
   ]
  },
  {
   "cell_type": "markdown",
   "metadata": {},
   "source": [
    "### Kvantumos megoldás"
   ]
  },
  {
   "cell_type": "markdown",
   "metadata": {},
   "source": [
    "**Állítás**: Az alábbi ábrán látható kvantumáramkör elvégzése után pontosan az $s$ bitsort mérjük az első négy qubiten. (Az utolsó qubitet nem kell mérni, annak értéke nem érdekel minket.) Tehát elég egyszer elvégeznünk az $f$ függvényt megvalósító műveletet.\n",
    "\n",
    "![](https://github.com/gubazoltan/QBronze2023/blob/main/%C3%A1br%C3%A1k/Berstein-Vazirani-sol.png?raw=true)\n",
    "\n",
    "A $|-\\rangle$ állapotot úgy állíthatjuk elő, hogy az $|{1}\\rangle$ állapotra hatunk egy $H$ kapuval."
   ]
  },
  {
   "cell_type": "markdown",
   "metadata": {},
   "source": [
    "**Bizonyítás:** \n",
    "Nézzük meg lépésről lépésre, hogy hogyan alakul az $n+1$ qubit állapota az ábrán látható kvantumáramkör hatására:\n",
    "1. A kvantumos megoldásban az első n qubit kezdeti állapota a $|0...0\\rangle$ állapot (lásd ábra). Az első lépés, hogy mindegyik qubitre hat egy Hadamard kapu:\n",
    "\\begin{equation}\n",
    "    |00...0\\rangle \\xrightarrow{H^{\\otimes n}} \\frac{1}{\\sqrt{2^n}}  (|0\\rangle + |1\\rangle)\\otimes...\\otimes (|0\\rangle + |1\\rangle) = ?\n",
    "\\end{equation}\n",
    "    **1. Kérdés**: Mit kapunk, ha felbontjuk a zárójeleket?\n",
    "    \n",
    "    **Megoldás**:\n",
    "\\begin{equation}\n",
    "    ? = \\frac{1}{\\sqrt{2^n}}(|00...0\\rangle + |00...1\\rangle + ... + |11...1\\rangle) =  \\frac{1}{\\sqrt{2^n}}\\sum_{\\underline{x}\\in\\{0, 1\\}^n}|x\\rangle \n",
    "\\end{equation}\n",
    "\n",
    "    **2. Kérdés**: Mit kapnánk, ha nem a $|00...0\\rangle$ kezdeti állapotból indulnánk, hanem az $|\\underline{a}\\rangle = |a_1a_2...a_n\\rangle$ állapotból?\n",
    "    \n",
    "    **Megoldás**: \n",
    "    \n",
    "\\begin{equation}\n",
    "    |a_1a_2...a_n\\rangle \\xrightarrow{H^{\\otimes n}} \\frac{1}{\\sqrt{2^n}} (|0\\rangle + (-1)^{a_1}|1\\rangle)\\otimes...\\otimes (|0\\rangle + (-1)^{a_1} |1\\rangle) =  \\frac{1}{\\sqrt{2^n}}\\sum_{\\underline{x}\\in\\{0, 1\\}^n} (-1)^{\\underline{a}\\cdot \\underline{x}} |x\\rangle \n",
    "\\end{equation}\n",
    "    \n",
    "\n",
    "2. Ezt követően a feketedobozt megvalósító kvantumkapu hat a qubitekre. Elevenítsük fel, hogy hogyan hat a feketedoboz a mérési bázisállapotokra:\n",
    "- Ha $\\underline{s}\\cdot\\underline{x} \\text{ mod } 2 = 0$, akkor a feketedoboz nem változtatja meg az állapotot.\n",
    "- Ha $\\underline{s}\\cdot\\underline{x} \\text{ mod } 2 = 1$, akkor így változik az állapot:\n",
    "\\begin{equation}\n",
    "\\begin{split}\n",
    "    |x\\rangle |0\\rangle \\xrightarrow{f_s} |x\\rangle |1\\rangle \\\\\n",
    "    |x\\rangle |1\\rangle \\xrightarrow{f_s} |x\\rangle |0\\rangle\n",
    "\\end{split}\n",
    "\\end{equation}\n",
    "\n",
    "    **3. Kérdés**: Hogyan hat a feketedoboz a qubitekre, ha a bemeneti állapot az $|x\\rangle|-\\rangle$ állapot?\n",
    "    \n",
    "    **Megoldás**: \n",
    "    - Ha $\\underline{s}\\cdot\\underline{x} \\text{ mod } 2 = 0$, akkor nem változik az állapot.\n",
    "    - Ha $\\underline{s}\\cdot\\underline{x} \\text{ mod } 2 = 1$, akkor:\n",
    "\\begin{equation}\n",
    "    |x\\rangle(|0\\rangle- |1\\rangle) \\xrightarrow{f_s} |x\\rangle\\frac{1}{\\sqrt{2}}(|1\\rangle- |0\\rangle) = -|x\\rangle|-\\rangle\n",
    "\\end{equation}\n",
    "A két esetet így tudjuk összefoglalni:\n",
    "\\begin{equation}\n",
    "    |x\\rangle|-\\rangle \\xrightarrow{f_s} (-1)^{\\underline{s}\\cdot\\underline{x}} |x\\rangle|-\\rangle\n",
    "\\end{equation}\n",
    "Tehát így változik a Hadamard kapuk hatására létrejövő szuperpozíció állapot:\n",
    "\\begin{equation}\n",
    "    \\frac{1}{\\sqrt{2^n}}\\sum_{\\underline{x}\\in\\{0, 1\\}^n}|x\\rangle|-\\rangle  \\xrightarrow{f_s} \\frac{1}{\\sqrt{2^n}}\\sum_{\\underline{x}\\in\\{0, 1\\}^n}(-1)^{\\underline{s}\\cdot \\underline{x}} |x\\rangle |-\\rangle\n",
    "\\end{equation}\n",
    "\n",
    "3. Vegyük észre, hogy a feketedoboz utáni állapot pont ugyanaz, mintha $|s\\rangle$ lenne bemeneti állapot és minden qubitre hattatnánk egy Hadamard kaput. A Hadamard kapu inverze önmaga, így a feketedoboz utáni állapototból elő tudjuk állítani az $|s\\rangle$ állapotot:\n",
    "\\begin{equation}\n",
    "    \\frac{1}{\\sqrt{2^n}}\\sum_{\\underline{x}\\in\\{0, 1\\}^n}(-1)^{\\underline{s}\\cdot \\underline{x}} |x\\rangle |-\\rangle \\xrightarrow{H^{\\otimes n}} |s\\rangle |-\\rangle\n",
    "\\end{equation}\n",
    "\n",
    "Tehát tényleg az $s$ bitsztringet kapjuk eredményül, ha megmérjük az első $n$ qubitet."
   ]
  },
  {
   "cell_type": "code",
   "execution_count": 21,
   "metadata": {},
   "outputs": [],
   "source": [
    "def black_box(s): # s egy bitsor\n",
    "    n = len(s)\n",
    "    qc = QuantumCircuit(n+1)\n",
    "    for i in range(len(s)):\n",
    "        if s[n-i-1] == 1:\n",
    "            qc.cx(i, n)\n",
    "    qc.name = \"f\"\n",
    "    return qc"
   ]
  },
  {
   "cell_type": "code",
   "execution_count": 47,
   "metadata": {},
   "outputs": [],
   "source": [
    "\"\"\"az i egész szám bináris alakját írja be a függvény n darab qubitbe\"\"\"\n",
    "def encode(i, n):\n",
    "    if 2**n <= i:\n",
    "        raise ValueError(\"'i' is too big to be stored on n qubits\")\n",
    "    bits = np.array(list(format(i, \"b\")), dtype=int)\n",
    "    while len(bits) < n:\n",
    "        bits = np.insert(bits, 0, 0)\n",
    "    qc = QuantumCircuit(n)\n",
    "    for j in range(len(bits)):\n",
    "        if bits[j]  == 1:\n",
    "            qc.x(n-j-1)\n",
    "    qc.name = \"%i\" %i\n",
    "    return qc\n",
    "\n",
    "def binary(i, n): # az i egyész szám bináris alakját adja vissza egy n hosszú listában\n",
    "    bits = np.array(list(format(i, \"b\")), dtype=int)\n",
    "    while len(bits) < n:\n",
    "        bits = np.insert(bits, 0, 0)\n",
    "    return bits"
   ]
  },
  {
   "cell_type": "markdown",
   "metadata": {},
   "source": [
    "**3. feladat (szorgalmi)** \n",
    "\n",
    "Ellenőrizzük, hogy a black_box(s) kvantumkapu úgy működik-e ahogy azt elvárjuk tőle az $\\underline{s}=(1, 0, 1, 1)$ bitsor esetén:\n",
    "- Hozzunk létre egy 5 qubites kvantumáramkört. \n",
    "- Írjunk bele egy $\\underline{x}$ bitsort az első 4 qubitbe. Ehhez használhatjuk az encode($i$, $n$) függvényt, ami az $i$ egész szám bináris alakját írja bele $n$ darab qubitbe, de a függvény nélkül is könnyen megoldható a feladat. \n",
    "- Hattassuk a black_box(s) kaput az 5 qubitre, majd mérjük meg az 5. qubitet. \n",
    "- írjunk egy ciklust, ami elvégzi ezeket a lépeseket minden lehetséges 4 hosszúságú bemeneti bitsztringre. (A feladat elvégzéséhez szimulátort használjunk, ne igazi kvantumszámítógépet.)\n"
   ]
  },
  {
   "cell_type": "code",
   "execution_count": 4,
   "metadata": {},
   "outputs": [],
   "source": [
    "s = np.array([1, 0, 1, 1])\n",
    "\n",
    "# megoldás helye\n",
    "\n"
   ]
  },
  {
   "cell_type": "markdown",
   "metadata": {},
   "source": [
    "**4.feladat**\n",
    "Rakjuk össze a fenti ábrán látható áramkört. Az $f$-el jelölt kapu helyére rakjuk a black_box($\\underline{s}$) kaput. Legyen $\\underline{s} = (1, 0, 1, 1)$.\n",
    "Ellenőrizzük, hogy a kvantumáramkör mérésekor tényleg visszakapjuk-e az $s$ bitsort. (Az áramkört futtathatjuk $\\underline{s}$ más értékeire is.) Először szimulátoron futtassuk a kvantumáramkört. Ha megfelelően műköik, akkor kipróbálhatjuk igazi kvantumszámítógépen is. A kvantumszámítógépen futtassuk többször is az áramkört (pl. shots=100), és mért eredményekből csináljunk hisztogrammot."
   ]
  },
  {
   "cell_type": "code",
   "execution_count": 5,
   "metadata": {},
   "outputs": [],
   "source": [
    "s = np.array([1, 0, 1, 1])\n",
    "\n",
    "# megoldás helye\n",
    "\n"
   ]
  },
  {
   "cell_type": "code",
   "execution_count": 6,
   "metadata": {},
   "outputs": [],
   "source": [
    "# hisztogramm helye\n"
   ]
  }
 ],
 "metadata": {
  "kernelspec": {
   "display_name": "Python 3",
   "language": "python",
   "name": "python3"
  },
  "language_info": {
   "codemirror_mode": {
    "name": "ipython",
    "version": 3
   },
   "file_extension": ".py",
   "mimetype": "text/x-python",
   "name": "python",
   "nbconvert_exporter": "python",
   "pygments_lexer": "ipython3",
   "version": "3.8.5"
  }
 },
 "nbformat": 4,
 "nbformat_minor": 4
}
