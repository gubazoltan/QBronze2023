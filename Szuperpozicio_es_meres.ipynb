{
 "cells": [
  {
   "cell_type": "markdown",
   "metadata": {},
   "source": [
    "## Kvantummechanikai szuperpozíció és mérés\n",
    "\n"
   ]
  },
  {
   "cell_type": "markdown",
   "metadata": {},
   "source": [
    "### Már említettük, hogy:\n",
    "\n",
    "- egy qubit \"egyszerre lehet\" a $|0\\rangle$ és $|1\\rangle$ kvantumállapotokban:\n",
    "\n",
    "&emsp;&emsp;&emsp;&emsp;&emsp; $|\\psi\\rangle=a|0\\rangle+b|1\\rangle$  &emsp;&emsp;&emsp; ahol $a$ és $b$ az **amplitúdók** \n",
    "\n",
    "- ha meg akarjuk ismerni a $|\\psi\\rangle$ kvantumállapotot, akkor meg kell mérnünk    \n",
    "\n",
    "    - de **méréskor** csak vagy '0'-t vagy '1'-et kaphatunk, úgy, hogy\n",
    "    \n",
    "    &emsp;&emsp;&emsp;&emsp;&emsp; $P(0)=|a|^2$ &emsp; és &emsp; $P(1)=|b|^2$\n",
    "    &emsp;&emsp;&emsp;&emsp;&emsp; \n",
    "    <br>\n",
    "    \n",
    "    - ugyanakkor a kettő közül valamelyiket biztosan kapjuk $\\Rightarrow$ $P(0)+P(1)=1$\n",
    "    \n",
    "    &emsp;&emsp;&emsp;&emsp;&emsp; $\\Rightarrow$ $|a|^2+|b|^2=1$ \n",
    "    <br>\n",
    "\n",
    "- az időfejlődés során (ha hattatunk rá kvantumos kapukat) a qubit állapotát jellemző amplitúdók megváltoznak, de az állapot normált marad\n",
    "\n",
    "- a mérés következtében viszont \"összeomlik\" a hullámfüggvény, beugrik a $|0\\rangle$, vagy az $|1\\rangle$ kvantumállapotba\n",
    "\n",
    "    - Minden további mérés ezután 100%-os valószínűséggel ugyanazt az eredményt adja\n",
    "    \n",
    "    - Megj.: A kvantumszámítógépekben lévő mérés mindig csak 0-t vagy 1-et ad eredményül (azt mondjuk, hogy az ún. számítási bázisban mérnek), de elvben használhatnánk más bázist is, pl. a {$|+\\rangle$,$|-\\rangle$} bázist\n"
   ]
  },
  {
   "cell_type": "markdown",
   "metadata": {},
   "source": [
    "### Hogy jobban megértsük az amplitúdók és a valószínűségek közti különbséget\n",
    "\n",
    "Tekintsük azt a legegyszerűbb példát, amikor egy Hadamard-kaput hajtunk végre valamelyik bázisállapotból indulva\n",
    "\n",
    "$$H:\\, |0\\rangle \\rightarrow \\frac{1}{\\sqrt{2}}(|0\\rangle+|1\\rangle)$$    \n",
    "$$H:\\, |1\\rangle \\rightarrow \\frac{1}{\\sqrt{2}}(|0\\rangle-|1\\rangle)$$ </br>    \n",
    "\n",
    "- Ha mérést hajtunk végre a qubiten, akkor mindkét esetben $P(0)=\\frac{1}{2}$ és $P(1)=\\frac{1}{2}$, vagyis a Hadamard-kapu ebből a szempontból hasonlít a klasszikus érmedobásra\n",
    "\n",
    "\n",
    "- **Mégis más, ugyanis:**\n",
    "\n",
    "    - Tekintsünk egy klasszikus érmét, amelyiket pl. \"írással\" felfelé tartunk, majd kétszer egymás után feldobunk és csak ezután nézzük meg, hogy mit kaptunk\n",
    "        - két feldobás után is $P(\\text{fej})=\\frac{1}{2}$ és $P(\\text{írás})=\\frac{1}{2}$\n",
    "        - az érme állapota nem függ az azt megelőző állapotaitól\n",
    "    - Ha ugyanígy kétszer alkalmazzuk a H-kaput pl. a $|0\\rangle$ állapotból indulva:\n",
    "        $$|0\\rangle \\, \\rightarrow \\, \\frac{1}{\\sqrt{2}}(|0\\rangle+|1\\rangle) \\, \\rightarrow \\, \\frac{1}{\\sqrt{2}}\\left[\\frac{1}{\\sqrt{2}}(|0\\rangle+|1\\rangle)+\\frac{1}{\\sqrt{2}}(|0\\rangle-|1\\rangle)\\right]=|0\\rangle$$\n",
    "        - az $|1\\rangle$ amplitúdói destruktívan interferáltak, a $|0\\rangle$-é konstruktívan\n",
    "        - ezután megmérve a qubit állapotát biztosan 0-t kapunk, tehát $P(0)=1$.\n",
    "        - Megj.: Ha a két H-kapu közé beiktatnánk még egy mérést, akkor a végén itt is $\\frac{1}{2}$-$\\frac{1}{2}$ valószínűséggel kapnánk 0-t és 1-et"
   ]
  },
  {
   "cell_type": "markdown",
   "metadata": {},
   "source": [
    "### Ellenőrizzük le az említett jelenséget!\n",
    "Hozzunk létre egy egy-qubites áramkört és hattassunk először egy, majd két H-kaput egymás után, végül mérjünk."
   ]
  },
  {
   "cell_type": "code",
   "execution_count": 24,
   "metadata": {},
   "outputs": [
    {
     "data": {
      "image/png": "[encoded data removed]",
      "text/plain": [
       "<Figure size 193.726x144.48 with 1 Axes>"
      ]
     },
     "execution_count": 24,
     "metadata": {},
     "output_type": "execute_result"
    }
   ],
   "source": [
    "from qiskit import QuantumCircuit, execute, Aer\n",
    "\n",
    "qc = QuantumCircuit(1,1)\n",
    "qc.h(0)\n",
    "#circuit.h(0)\n",
    "\n",
    "qc.measure(0,0)\n",
    "\n",
    "qc.draw(output = 'mpl')"
   ]
  },
  {
   "cell_type": "markdown",
   "metadata": {},
   "source": [
    "Futtassuk az áramkört és írassuk ki az eredményt."
   ]
  },
  {
   "cell_type": "code",
   "execution_count": 25,
   "metadata": {
    "scrolled": true
   },
   "outputs": [
    {
     "name": "stdout",
     "output_type": "stream",
     "text": [
      "{'1': 482, '0': 518}\n"
     ]
    }
   ],
   "source": [
    "job = execute(qc , Aer.get_backend('qasm_simulator'), shots=1000)\n",
    "\n",
    "#a 'job' objektum tartalmazza a mérésünk eredményét, ebből az alábbi módon nyerhetjük ki azt \n",
    "counts = job.result().get_counts(qc)\n",
    "\n",
    "#Írassuk ki a mérési eredményt\n",
    "print(counts)"
   ]
  },
  {
   "cell_type": "markdown",
   "metadata": {},
   "source": [
    "Nézzük meg, mi történik, ha az áramkör bemenete az $|1\\rangle$ kvantumállapot (használjunk még egy X-kaput az áramkör legelején)."
   ]
  },
  {
   "cell_type": "code",
   "execution_count": 26,
   "metadata": {},
   "outputs": [
    {
     "name": "stdout",
     "output_type": "stream",
     "text": [
      "{'1': 1000}\n"
     ]
    }
   ],
   "source": [
    "from qiskit import QuantumCircuit, execute, Aer\n",
    "\n",
    "qc = QuantumCircuit(1,1)\n",
    "qc.x(0)\n",
    "qc.h(0)\n",
    "qc.h(0)\n",
    "\n",
    "qc.measure(0,0)\n",
    "\n",
    "job = execute(qc , Aer.get_backend('qasm_simulator'), shots=1000)\n",
    "\n",
    "counts = job.result().get_counts(qc)\n",
    "\n",
    "print(counts)"
   ]
  },
  {
   "cell_type": "markdown",
   "metadata": {},
   "source": [
    "### Hozzunk létre egy olyan áramkört, amelyben a H-kapu után csak akkor hatunk még egy H-val, ha az első után 0-t mérünk\n",
    "A qiskitben erre a célra létezik egy ún. feltételes művelet, amely csak akkor hajtódik végre, ha a klasszikus regiszter értéke megfelelő. Ezt a feladatot csak a klasszikus szimulátorral tudjuk elvégezni, mert ez a művelet egylőre nincs implementálva az ingyenes gépeken."
   ]
  },
  {
   "cell_type": "code",
   "execution_count": 27,
   "metadata": {},
   "outputs": [
    {
     "data": {
      "image/png": "[encoded data removed]",
      "text/plain": [
       "<Figure size 314.126x144.48 with 1 Axes>"
      ]
     },
     "execution_count": 27,
     "metadata": {},
     "output_type": "execute_result"
    }
   ],
   "source": [
    "from qiskit import QuantumRegister, ClassicalRegister, QuantumCircuit, execute, Aer\n",
    "\n",
    "# definiáljunk egy egy-qubites kvantumregisztert\n",
    "q = QuantumRegister(1,\"q\")\n",
    "# definiáljunk egy egy-bites klasszikus regisztert\n",
    "c = ClassicalRegister(1,\"c\")\n",
    "# definiáljuk az áramkört\n",
    "qc = QuantumCircuit(q,c)\n",
    "\n",
    "# Első Hadamard\n",
    "qc.h(q[0])\n",
    "\n",
    "# Az első mérés\n",
    "qc.measure(q,c)\n",
    "\n",
    "# A feltételes Hadamard, ami csak akkor hajtódik végre, ha 0-t mérünk\n",
    "qc.h(q[0]).c_if(c,0)\n",
    "\n",
    "# A második mérés\n",
    "qc.measure(q[0],c)\n",
    "\n",
    "qc.draw(output = 'mpl')"
   ]
  },
  {
   "cell_type": "markdown",
   "metadata": {},
   "source": [
    "#### Futtassuk le az áramkört 1000-szer. Milyen arányban kapunk 0-t, illetve 1-et?"
   ]
  },
  {
   "cell_type": "code",
   "execution_count": 28,
   "metadata": {},
   "outputs": [
    {
     "name": "stdout",
     "output_type": "stream",
     "text": [
      "{'1': 775, '0': 225}\n"
     ]
    }
   ],
   "source": [
    "job = execute(qc,Aer.get_backend('qasm_simulator'),shots=1000)\n",
    "\n",
    "counts = job.result().get_counts(qc)   \n",
    "\n",
    "print(counts)"
   ]
  },
  {
   "cell_type": "markdown",
   "metadata": {},
   "source": [
    "#### Az 1-et kb. háromszor olyan gyakran kapjuk, mint a 0-t. \n",
    "\n",
    "Ennek az az oka, hogy az első H-kapu után $\\frac{1}{2}$ valószínűséggel kapjuk csak a 0 eredményt, a mérés hatására pedig az állapotunk a $|0\\rangle$-ba ugrik. A második H-kapu után ismét $\\frac{1}{2}$ a valószínűsége annak, hogy 0-t mérünk, így a 0 eredmény valószínűsége a teljes áramkörben $P(0)=\\frac{1}{2}\\cdot\\frac{1}{2}=\\frac{1}{4}$. Mivel abban az esetben, ha az első H-kapu után 1-et mérünk, a második nem hajtódik végre, ezért az 1 mérés legalább $\\frac{1}{2}$ valószínűségű, de ehhez hozzá kell még adni azt, amikor végrehajtódik a második H-kapu is, de ott mégis 1-et mérünk, tehát $P(1)=\\frac{1}{2}+\\frac{1}{4}=\\frac{3}{4}$ "
   ]
  },
  {
   "cell_type": "markdown",
   "metadata": {},
   "source": [
    "### A mérési valószínűségek becslése\n",
    "\n",
    "Ahhoz, hogy egy kvantumrendszer állapotát megismerjük, általában nem elegendő egy mérés.\n",
    "\n",
    "- Láttuk, hogy a kvantumáramköröket eleve több \"shot\"-tal szokás lefuttatni, mert a különböző mérési eredmények más-más valószínűségűek\n",
    "\n",
    "    - Ezeket a valószínűségeket a többször újrapreparált qubiteken lefuttatott áramköröket megmérve tudjuk csak megbecsülni"
   ]
  },
  {
   "cell_type": "markdown",
   "metadata": {},
   "source": [
    "#### Tekintsük ismét a legegyszerűbb egy H-kaput tartalmazó áramkört."
   ]
  },
  {
   "cell_type": "code",
   "execution_count": 29,
   "metadata": {},
   "outputs": [
    {
     "name": "stdout",
     "output_type": "stream",
     "text": [
      "{'1': 5, '0': 5}\n"
     ]
    }
   ],
   "source": [
    "from qiskit import QuantumCircuit, execute, Aer\n",
    "\n",
    "qc = QuantumCircuit(1,1)\n",
    "qc.h(0)\n",
    "\n",
    "qc.measure(0,0)\n",
    "\n",
    "job = execute(qc , Aer.get_backend('qasm_simulator'), shots=10)\n",
    "\n",
    "counts = job.result().get_counts(qc)\n",
    "\n",
    "print(counts)"
   ]
  },
  {
   "cell_type": "markdown",
   "metadata": {},
   "source": [
    "#### Határozzuk meg a két eredmény relatív gyakoriságát!"
   ]
  },
  {
   "cell_type": "code",
   "execution_count": 30,
   "metadata": {},
   "outputs": [
    {
     "name": "stdout",
     "output_type": "stream",
     "text": [
      "A 0 meresi eredmeny relatív gyakorisága: 0.5\n",
      "Az 1 meresi eredmeny relatív gyakorisága: 0.5\n"
     ]
    }
   ],
   "source": [
    "#számoljuk meg, hogy hányszor mértünk 0-t és 1-et.\n",
    "n_zeros = counts['0']\n",
    "n_ones = counts['1']\n",
    "\n",
    "#Írassuk ki, a '0' és '1' eredmények relatív gyakoriságát.\n",
    "print(\"A 0 meresi eredmeny relatív gyakorisága:\", n_zeros/(n_zeros+n_ones))\n",
    "print(\"Az 1 meresi eredmeny relatív gyakorisága:\", n_ones/(n_zeros+n_ones))"
   ]
  },
  {
   "cell_type": "markdown",
   "metadata": {},
   "source": [
    "#### Most futtassuk le az áramkört 10, 100, 1000 shot-tal! Mit tapasztalunk?"
   ]
  },
  {
   "cell_type": "markdown",
   "metadata": {},
   "source": [
    "#### Az eredmények egyre inkább 1/2 - 1/2 arányban oszlanak meg a két lehetőség között"
   ]
  },
  {
   "cell_type": "markdown",
   "metadata": {},
   "source": [
    "### A statisztikus hibák vizsgálata\n",
    "- Tekintsük az eddig vizsgált egy-qubites Hadamard-kapus áramkört! \n",
    "\n",
    "\n",
    "- Itt az áramkör végén a méréskor két kimenetel lehetséges: '0' vagy '1'  \n",
    "    - Ezek komplementerek, ezért tekinthetjük az egyiket a sikeresnek (legyen ez a '0'), a másikat a sikertelennek ('1')  \n",
    "    - Jelöljük a sikeres esemény valószínűségét $p$-vel (ebben az esetben $p=\\frac{1}{2}$)  \n",
    "    - a sikertelen események valószínűsége $q=1-p$   \n",
    "\n",
    "\n",
    "- Tudjuk, hogy $N$ független, két kimenetelű mérésből:  \n",
    "    - a sikeres mérések várható értéke: $Np$ \n",
    "    <br>\n",
    "    - a sikeres mérések szórása: $\\sqrt{Npq}$  \n",
    "    \n",
    "    \n",
    "- Ha nem a mérések számát, hanem azok valószínűségét tekintjük, akkor a fenti gondolatmenetben szereplő mennyiségeket el kell osztanunk $N$-nel  \n",
    "    - A sikeres mérések valószínűségének várható értéke: $\\dfrac{Np}{N}=p$\n",
    "    - A sikeres mérések valószínűségének szórása: $\\dfrac{\\sqrt{Npq}}{N}=\\dfrac{\\sqrt{pq}}{\\sqrt{N}}$\n",
    "        - Vagyis a szórás annál kisebb, minél nagyobb a mérések $N$ száma $\\Rightarrow$ általában célszerű sok mérést végezni"
   ]
  },
  {
   "cell_type": "markdown",
   "metadata": {},
   "source": [
    "#### Írjunk egy olyan programot:\n",
    "- amely lefuttatja az egy-qubites Hadamard-kapus áramkört 10-szer egymás után $N=2^4,2^6,2^8,2^{10},2^{12}=16,64,256,1024,4096$ méréssel (shot)\n",
    "- majd ábrázoljuk a '0' eredmény becsült valószínűségeit az elméletből kapható szórással együtt a $\\sqrt{N}$ függvényében!\n",
    "    - $\\sqrt{N}=2^2,2^3,2^4,2^5,2^6=4,8,16,32,64$"
   ]
  },
  {
   "cell_type": "code",
   "execution_count": 32,
   "metadata": {},
   "outputs": [],
   "source": [
    "from qiskit import QuantumCircuit, execute, Aer\n",
    "qc = QuantumCircuit(1,1)\n",
    "qc.h(0)\n",
    "qc.measure(0,0)\n",
    "\n",
    "# Importáljuk a math csomagot\n",
    "from math import sqrt\n",
    "\n",
    "# Hozzunk létre üres listákat az egyes becsült valószínűségeknek és egyet a mérés-számoknak\n",
    "p_i_list = []\n",
    "N_list=[]\n",
    "\n",
    "# Ez a lépés csak azért van itt, hogy ha többször szeretnénk futtatni ezt a cellát, akkor mindig \n",
    "# kiürítsük az előző listákat\n",
    "p_i_list.clear()\n",
    "N_list.clear()\n",
    "\n",
    "# Legyen 10 kísérletünk minden mérés-számhoz\n",
    "n_kiserlet=10\n",
    "\n",
    "# Hozzunk létre egy \"for\" ciklust a különböző mérés-számok beállítására\n",
    "for j in range(5):\n",
    "    \n",
    "    # Állítsuk be a mérések számát \n",
    "    n_shots=pow(2,2*(j+2))\n",
    "    \n",
    "    # Csináljunk egy újabb \"for\" ciklust az egyes kísérleteknek\n",
    "    for i in range(n_kiserlet):\n",
    "\n",
    "        job = execute(qc , Aer.get_backend('qasm_simulator'), shots=n_shots)\n",
    "        counts = job.result().get_counts(qc)\n",
    "\n",
    "        n_zeros = counts['0']\n",
    "        n_ones = counts['1']\n",
    "\n",
    "        # Számítsuk ki az adott kísérlet esetében kapott becsült valószínűséget \n",
    "        # (elég csak a '0' eredményhez)\n",
    "        p_i = n_zeros/(n_zeros+n_ones)\n",
    "\n",
    "        # A kapott valószínűséget adjuk hozzá a listánkhoz\n",
    "        p_i_list.append(p_i)\n",
    "        # A mérés-számokat tartalmazó listánkhoz is adjuk hozzá az aktuális mérés-számot \n",
    "        # (ez majd az ábrához kell)\n",
    "        N_list.append(sqrt(n_shots))"
   ]
  },
  {
   "cell_type": "markdown",
   "metadata": {},
   "source": [
    "Ábrázoljuk a kapott mérési eredményeket és az elmélet alapján várt szórást is rajzoljuk fel."
   ]
  },
  {
   "cell_type": "code",
   "execution_count": 36,
   "metadata": {},
   "outputs": [
    {
     "data": {
      "image/png": "[encoded data removed]",
      "text/plain": [
       "<Figure size 432x288 with 1 Axes>"
      ]
     },
     "metadata": {
      "needs_background": "light"
     },
     "output_type": "display_data"
    }
   ],
   "source": [
    "# Importáljuk a szükséges csomagokat\n",
    "import matplotlib.pyplot as plt\n",
    "from numpy import reciprocal, arange\n",
    "\n",
    "# Az áramkörhöz tartozóan a '0' eredmény elméletből ismert értéke\n",
    "p_ideal=0.5\n",
    "q_ideal=1-p_ideal\n",
    "\n",
    "# Állítsuk be az x-tengelyen milyen beosztással és milyen tartományban szeretnénk ábrázolni\n",
    "# Az x értékek a mérés-számoknak felelnek meg (amelyekből már négyzetgyököt vontunk)\n",
    "# A sqrt(N)-ek 2^2-tól 2^6-ig mennek, azaz 4-től 64-ig\n",
    "x = arange(3, 64, 0.1)\n",
    "# Számítsuk ki hozzá a két görbét (mivel a mérés-számokból már gyököt vontunk, ezért itt már \n",
    "# csak azok reciprokát kell vennünk, majd megszoroznunk sqrt(p*(1-p))-vel)\n",
    "# a szórást a p_ideal-hoz képest pozitív és negatív irányban is értelmezzük, \n",
    "# ezért két görbét rajzolunk\n",
    "y1 = p_ideal+sqrt(p_ideal*q_ideal)*reciprocal(x)\n",
    "y2 = p_ideal-sqrt(p_ideal*q_ideal)*reciprocal(x)\n",
    "    \n",
    "# plot-oljuk az így kapott pontokat\n",
    "plt.plot(x, y1, color=\"orange\")\n",
    "plt.plot(x, y2, color=\"orange\") \n",
    "plt.scatter(N_list, p_i_list, s=2, color=\"black\")\n",
    "plt.show()"
   ]
  },
  {
   "cell_type": "markdown",
   "metadata": {},
   "source": [
    "#### Látható, hogy minél több mérést végzünk, annál jobban lecsökken a statisztikai hiba.\n",
    "#### A valódi kvantumszámítógépeken sok különböző hiba felléphet, ezek gyakran a mérések számának növelésével sem küszöbölhetők ki."
   ]
  },
  {
   "cell_type": "code",
   "execution_count": null,
   "metadata": {},
   "outputs": [],
   "source": []
  }
 ],
 "metadata": {
  "kernelspec": {
   "display_name": "Python 3",
   "language": "python",
   "name": "python3"
  },
  "language_info": {
   "codemirror_mode": {
    "name": "ipython",
    "version": 3
   },
   "file_extension": ".py",
   "mimetype": "text/x-python",
   "name": "python",
   "nbconvert_exporter": "python",
   "pygments_lexer": "ipython3",
   "version": "3.8.3"
  }
 },
 "nbformat": 4,
 "nbformat_minor": 4
}
