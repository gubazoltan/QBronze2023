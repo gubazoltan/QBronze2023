{
 "cells": [
  {
   "cell_type": "markdown",
   "metadata": {},
   "source": [
    "## Kvantummechanikai szuperpozíció és mérés\n",
    "\n"
   ]
  },
  {
   "cell_type": "markdown",
   "metadata": {},
   "source": [
    "### Nézzünk egy egyszerű áramkört!\n",
    "- Olvassuk ki a kvantumállapotot, mielőtt hozzáadnánk a mérést!"
   ]
  },
  {
   "cell_type": "code",
   "execution_count": 9,
   "metadata": {},
   "outputs": [
    {
     "data": {
      "image/png": "[encoded data removed]",
      "text/plain": [
       "<Figure size 133.526x84.28 with 1 Axes>"
      ]
     },
     "execution_count": 9,
     "metadata": {},
     "output_type": "execute_result"
    }
   ],
   "source": [
    "from qiskit import QuantumCircuit, execute, Aer\n",
    "\n",
    "circuit0 = QuantumCircuit(1)\n",
    "circuit0.h(0)\n",
    "\n",
    "circuit0.draw(output = 'mpl')"
   ]
  },
  {
   "cell_type": "code",
   "execution_count": 10,
   "metadata": {},
   "outputs": [
    {
     "name": "stdout",
     "output_type": "stream",
     "text": [
      "[0.70710678+0.j 0.70710678+0.j]\n"
     ]
    }
   ],
   "source": [
    "# Ismét a 'statevector_simulator' elnevezésű backend-en futtatunk\n",
    "job=execute(circuit0,Aer.get_backend('statevector_simulator'),optimization_level=0)\n",
    "\n",
    "# A futtatás eredményét tegyük bele a 'quantum_state' objektumba\n",
    "quantum_state_0 = job.result().get_statevector(circuit0)\n",
    "\n",
    "print(quantum_state_0)"
   ]
  },
  {
   "cell_type": "markdown",
   "metadata": {},
   "source": [
    "Ez a kvantumállapot nem más, mint a\n",
    "\n",
    "&emsp;&emsp;&emsp;&emsp;&emsp; $|\\psi\\rangle=\\begin{pmatrix} 0,70710678 \\\\ 0,70710678 \\end{pmatrix}=\\frac{1}{\\sqrt{2}}\\left(|0\\rangle+|1\\rangle\\right)=|+\\rangle$.\n",
    "\n",
    "Vagyis azt látjuk, hogy a Hadamard-kapu hatása\n",
    "\n",
    "&emsp;&emsp;&emsp;&emsp;&emsp; $|0\\rangle\\rightarrow \\frac{1}{\\sqrt{2}}\\left(|0\\rangle+|1\\rangle\\right)=|+\\rangle$\n",
    "\n",
    "#### Tehát az állapot a mérés előtt még tartalmazza a '0'-t és az '1'-et is, a véletlenszerű (pénzfeldobásra hasonlító) eredményt a mérés hatására tapasztaljuk. "
   ]
  },
  {
   "cell_type": "markdown",
   "metadata": {},
   "source": [
    "### Tegyük most be a mérést is az áramkörbe!\n",
    "\n",
    "- Használjuk a \"qasm_simulator\" elnevezésű szimulátort"
   ]
  },
  {
   "cell_type": "code",
   "execution_count": 11,
   "metadata": {},
   "outputs": [
    {
     "data": {
      "image/png": "[encoded data removed]",
      "text/plain": [
       "<Figure size 193.726x144.48 with 1 Axes>"
      ]
     },
     "execution_count": 11,
     "metadata": {},
     "output_type": "execute_result"
    }
   ],
   "source": [
    "from qiskit import QuantumCircuit, execute, Aer\n",
    "\n",
    "circuit = QuantumCircuit(1,1) \n",
    "\n",
    "circuit.h(0)\n",
    "\n",
    "# Tegyünk be egy mérést. (Megj.: a mérés eredményét csak klasszikus biteken tudjuk tárolni)\n",
    "circuit.measure(0,0)\n",
    "\n",
    "circuit.draw(output = 'mpl')"
   ]
  },
  {
   "cell_type": "markdown",
   "metadata": {},
   "source": [
    "Futtassuk az áramkört először csak 1-szer, majd írassuk ki a mérés eredményét!"
   ]
  },
  {
   "cell_type": "code",
   "execution_count": 12,
   "metadata": {},
   "outputs": [
    {
     "name": "stdout",
     "output_type": "stream",
     "text": [
      "{'0': 1}\n"
     ]
    }
   ],
   "source": [
    "job = execute(circuit , Aer.get_backend('qasm_simulator'), shots=1)\n",
    "\n",
    "#a 'job' objektum tartalmazza a mérésünk eredményét, ebből az alábbi módon nyerhetjük ki azt \n",
    "counts = job.result().get_counts(circuit)\n",
    "\n",
    "#Írassuk ki a mérési eredményt\n",
    "print(counts)"
   ]
  },
  {
   "cell_type": "markdown",
   "metadata": {},
   "source": [
    "#### Van, aki 0-t, van aki 1-et kapott eredményül "
   ]
  },
  {
   "cell_type": "markdown",
   "metadata": {},
   "source": [
    "### Kvantummechanikai mérés\n",
    "\n",
    "- A mérés hatására a kvantumbit állapota \"beugrik\" valamelyik bázisállapotba, ezért vagy 0-t, vagy 1-et kapunk eredményül\n",
    "    - Ha még egyszer mérünk, akkor az eredmény már nem változik meg\n",
    "    - Megj.: A kvantumszámítógépekben lévő mérés mindig csak 0-t vagy 1-et ad eredményül (azt mondjuk, hogy az ún. számítási bázisban mérnek), de elvben használhatnánk más bázist is, pl. a {$|+\\rangle$,$|-\\rangle$} bázist"
   ]
  },
  {
   "cell_type": "markdown",
   "metadata": {},
   "source": [
    "#### Most futtassuk le az áramkört 10, 100, 1000 shot-tal! Mit tapasztalunk?"
   ]
  },
  {
   "cell_type": "code",
   "execution_count": 13,
   "metadata": {},
   "outputs": [
    {
     "name": "stdout",
     "output_type": "stream",
     "text": [
      "{'1': 490, '0': 510}\n"
     ]
    }
   ],
   "source": [
    "job = execute(circuit , Aer.get_backend('qasm_simulator'), shots=1000)\n",
    "\n",
    "counts = job.result().get_counts(circuit)\n",
    "\n",
    "print(counts)"
   ]
  },
  {
   "cell_type": "markdown",
   "metadata": {},
   "source": [
    "#### Határozzuk meg a két eredmény relatív gyakoriságát!"
   ]
  },
  {
   "cell_type": "code",
   "execution_count": 14,
   "metadata": {},
   "outputs": [
    {
     "name": "stdout",
     "output_type": "stream",
     "text": [
      "A 0 meresi eredmeny relatív gyakorisága: 0.51\n",
      "Az 1 meresi eredmeny relatív gyakorisága: 0.49\n"
     ]
    }
   ],
   "source": [
    "#számoljuk meg, hogy hányszor mértünk 0-t és 1-et.\n",
    "n_zeros = counts['0']\n",
    "n_ones = counts['1']\n",
    "\n",
    "#Írassuk ki, a '0' és '1' eredmények relatív gyakoriságát.\n",
    "print(\"A 0 meresi eredmeny relatív gyakorisága:\", n_zeros/(n_zeros+n_ones))\n",
    "print(\"Az 1 meresi eredmeny relatív gyakorisága:\", n_ones/(n_zeros+n_ones))"
   ]
  },
  {
   "cell_type": "markdown",
   "metadata": {},
   "source": [
    "#### A relatív gyakorisággal becsülhetjük az adott mérési eredmény valószínűségét."
   ]
  },
  {
   "cell_type": "markdown",
   "metadata": {},
   "source": [
    "#### Az eredmények egyre inkább 1/2 - 1/2 arányban oszlanak meg a két lehetőség között\n",
    "- Összhangban azzal, hogy az állapotunk amplitúdói $a=\\frac{1}{\\sqrt{2}}$ és $b=\\frac{1}{\\sqrt{2}}$ és a '0' mérési eredmény valószínűsége $P(0)=|a|^2$, az '1'-é pedig $P(1)=|b|^2$."
   ]
  },
  {
   "cell_type": "markdown",
   "metadata": {},
   "source": [
    "### A statisztikus hibák vizsgálata\n",
    "- Tekintsük az eddig vizsgált egy-qubites Hadamard-kapus áramkört! \n",
    "\n",
    "\n",
    "- Itt az áramkör végén a méréskor két kimenetel lehetséges: '0' vagy '1'  \n",
    "    - Ezek komplementerek, ezért tekinthetjük az egyiket a sikeresnek (legyen ez a '0'), a másikat a sikertelennek ('1')  \n",
    "    - Jelöljük a sikeres esemény valószínűségét $p$-vel (ebben az esetben $p=\\frac{1}{2}$)  \n",
    "    - a sikertelen események valószínűsége $q=1-p$   \n",
    "\n",
    "\n",
    "- Tudjuk, hogy $N$ független, két kimenetelű mérésből:  \n",
    "    - a sikeres mérések várható értéke: $Np$ \n",
    "    <br>\n",
    "    - a sikeres mérések szórása: $\\sqrt{Npq}$  \n",
    "    \n",
    "    \n",
    "- Ha nem a mérések számát, hanem azok valószínűségét tekintjük, akkor a fenti gondolatmenetben szereplő mennyiségeket el kell osztanunk $N$-nel  \n",
    "    - A sikeres mérések valószínűségének várható értéke: $\\dfrac{Np}{N}=p$\n",
    "    - A sikeres mérések valószínűségének szórása: $\\dfrac{\\sqrt{Npq}}{N}=\\dfrac{\\sqrt{pq}}{\\sqrt{N}}$\n",
    "        - Vagyis a szórás annál kisebb, minél nagyobb a mérések $N$ száma $\\Rightarrow$ általában célszerű sok mérést végezni"
   ]
  },
  {
   "cell_type": "markdown",
   "metadata": {},
   "source": [
    "#### Írjunk egy olyan programot:\n",
    "- amely lefuttatja az egy-qubites Hadamard-kapus áramkört 10-szer egymás után $N=2^4,2^6,2^8,2^{10},2^{12}=16,64,256,1024,4096$ méréssel (shot)\n",
    "- majd ábrázoljuk a '0' eredmény becsült valószínűségeit az elméletből kapható szórással együtt a $\\sqrt{N}$ függvényében!\n",
    "    - $\\sqrt{N}=2^2,2^3,2^4,2^5,2^6=4,8,16,32,64$"
   ]
  },
  {
   "cell_type": "code",
   "execution_count": 7,
   "metadata": {},
   "outputs": [],
   "source": [
    "from qiskit import QuantumCircuit, execute, Aer\n",
    "circuit = QuantumCircuit(1,1)\n",
    "circuit.h(0)\n",
    "circuit.measure(0,0)\n",
    "\n",
    "# Importáljuk a math csomagot\n",
    "import math\n",
    "\n",
    "# Hozzunk létre üres listákat az egyes becsült valószínűségeknek és egyet a mérés-számoknak\n",
    "p_i_list = []\n",
    "N_list=[]\n",
    "\n",
    "# Ez a lépés csak azért van itt, hogy ha többször szeretnénk futtatni ezt a cellát, akkor mindig \n",
    "# kiürítsük az előző listákat\n",
    "p_i_list.clear()\n",
    "N_list.clear()\n",
    "\n",
    "# Legyen 10 kísérletünk minden mérés-számhoz\n",
    "n_kiserlet=10\n",
    "\n",
    "# Hozzunk létre egy \"for\" ciklust a különböző mérés-számok beállítására\n",
    "for j in range(5):\n",
    "    \n",
    "    # Állítsuk be a mérések számát \n",
    "    n_shots=pow(2,2*(j+2))\n",
    "    \n",
    "    # Csináljunk egy újabb \"for\" ciklust az egyes kísérleteknek\n",
    "    for i in range(n_kiserlet):\n",
    "\n",
    "        job = execute(circuit , Aer.get_backend('qasm_simulator'), shots=n_shots)\n",
    "        counts = job.result().get_counts(circuit)\n",
    "\n",
    "        n_zeros = counts['0']\n",
    "        n_ones = counts['1']\n",
    "\n",
    "        # Számítsuk ki az adott kísérlet esetében kapott becsült valószínűséget \n",
    "        # (elég csak a '0' eredményhez)\n",
    "        p_i = n_zeros/(n_zeros+n_ones)\n",
    "\n",
    "        # A kapott valószínűséget adjuk hozzá a listánkhoz\n",
    "        p_i_list.append(p_i)\n",
    "        # A mérés-számokat tartalmazó listánkhoz is adjuk hozzá az aktuális mérés-számot \n",
    "        # (ez majd az ábrához kell)\n",
    "        N_list.append(math.sqrt(n_shots))"
   ]
  },
  {
   "cell_type": "markdown",
   "metadata": {},
   "source": [
    "Ábrázoljuk a kapott mérési eredményeket és az elmélet alapján várt szórást is rajzoljuk fel."
   ]
  },
  {
   "cell_type": "code",
   "execution_count": 8,
   "metadata": {
    "scrolled": true
   },
   "outputs": [
    {
     "data": {
      "image/png": "[encoded data removed]",
      "text/plain": [
       "<Figure size 432x288 with 1 Axes>"
      ]
     },
     "metadata": {
      "needs_background": "light"
     },
     "output_type": "display_data"
    }
   ],
   "source": [
    "# Importáljuk a szükséges csomagokat\n",
    "import matplotlib.pyplot as plt\n",
    "import numpy as np\n",
    "\n",
    "# Az áramkörhöz tartozóan a '0' eredmény elméletből ismert értéke\n",
    "p_ideal=0.5\n",
    "q_ideal=1-p_ideal\n",
    "\n",
    "# Állítsuk be az x-tengelyen milyen beosztással és milyen tartományban szeretnénk ábrázolni\n",
    "# Az x értékek a mérés-számoknak felelnek meg (amelyekből már négyzetgyököt vontunk)\n",
    "# A sqrt(N)-ek 2^2-tól 2^6-ig mennek, azaz 4-től 64-ig\n",
    "x = np.arange(3, 64, 0.1)\n",
    "# Számítsuk ki hozzá a két görbét (mivel a mérés-számokból már gyököt vontunk, ezért itt már \n",
    "# csak azok reciprokát kell vennünk, majd megszoroznunk sqrt(p*(1-p))-vel)\n",
    "# a szórást a p_ideal-hoz képest pozitív és negatív irányban is értelmezzük, \n",
    "# ezért két görbét rajzolunk\n",
    "y1 = p_ideal+math.sqrt(p_ideal*q_ideal)*np.reciprocal(x)\n",
    "y2 = p_ideal-math.sqrt(p_ideal*q_ideal)*np.reciprocal(x)\n",
    "    \n",
    "# plot-oljuk az így kapott pontokat\n",
    "plt.plot(x, y1, color=\"orange\")\n",
    "plt.plot(x, y2, color=\"orange\") \n",
    "plt.scatter(N_list, p_i_list, s=2, color=\"black\")\n",
    "plt.show()"
   ]
  },
  {
   "cell_type": "markdown",
   "metadata": {},
   "source": [
    "#### Látható, hogy minél több mérést végzünk, annál jobban lecsökken a statisztikai hiba.\n",
    "#### A valódi kvantumszámítógépeken sok különböző hiba felléphet, ezek gyakran a mérések számának növelésével sem küszöbölhetők ki."
   ]
  },
  {
   "cell_type": "markdown",
   "metadata": {},
   "source": [
    "### Valódi kvantumszámítógépen való futtatás\n",
    "- Külön .ipynb fájlban."
   ]
  },
  {
   "cell_type": "code",
   "execution_count": null,
   "metadata": {},
   "outputs": [],
   "source": []
  }
 ],
 "metadata": {
  "kernelspec": {
   "display_name": "Python 3",
   "language": "python",
   "name": "python3"
  },
  "language_info": {
   "codemirror_mode": {
    "name": "ipython",
    "version": 3
   },
   "file_extension": ".py",
   "mimetype": "text/x-python",
   "name": "python",
   "nbconvert_exporter": "python",
   "pygments_lexer": "ipython3",
   "version": "3.8.3"
  }
 },
 "nbformat": 4,
 "nbformat_minor": 4
}
