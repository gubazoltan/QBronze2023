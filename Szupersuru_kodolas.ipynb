{
 "cells": [
  {
   "cell_type": "markdown",
   "metadata": {
    "colab_type": "text",
    "id": "OQYW8N5rPyGC",
    "tags": [
     "remove_cell"
    ]
   },
   "source": [
    "# Szupersűrű kódolás\n",
    "\n",
    "\n",
    "$ \\newcommand{\\bra}[1]{\\langle #1|} $\n",
    "$ \\newcommand{\\ket}[1]{|#1\\rangle} $\n",
    "$ \\newcommand{\\braket}[2]{\\langle #1|#2\\rangle} $$ \\newcommand{\\bra}[1]{\\langle #1|} $\n",
    "$ \\newcommand{\\ket}[1]{|#1\\rangle} $\n",
    "$ \\newcommand{\\braket}[2]{\\langle #1|#2\\rangle} $"
   ]
  },
  {
   "cell_type": "markdown",
   "metadata": {
    "colab_type": "text",
    "id": "OQYW8N5rPyGC"
   },
   "source": [
    "A következő jupyter notebook a szupersűrű kódolást muatatja be feladatok által, főként a Qiskit tankönyv ide vonatkozó részét követve. A feladatok egyike sem kifejezetten nehéz, leginkább a jelenség mélyebb megértését igyekeznek elősegíteni. Minden feladat után további segítségek vannak a megoldásához, a tapasztaltabbak számára a feladatok ezek nélkül is megoldhatóak.\n",
    "\n",
    "\n",
    "1. [Bevezetés](#bevezetés)\n",
    "2. [A protokoll](#protokoll)    \n",
    "    1. [1. lépés](#1)    \n",
    "    2. [2. lépés](#2)    \n",
    "    3. [3. lépés](#3)\n",
    "3. [Kvantumáramkör](#áramkör)   \n",
    "4. [A protokoll szimulációja](#szim)        \n",
    "5. [Szupersűrű kódolás valódi kvantumszámítógépeken](#real)\n",
    "\n",
    "\n",
    "\n",
    "Portik Attila (portik.attila@wigner.hu)"
   ]
  },
  {
   "cell_type": "markdown",
   "metadata": {},
   "source": [
    "## 1. Bevezetés <a id='bevezetés'></a>\n",
    "\n",
    "A szupersűrű kódolás egy módszer, ami lehetővé teszi, hogy valaki két klasszikus bitnek megfelelő információt küldjön egyetlen qubit használatával. A kvantumos teleportációhoz hasonlóan itt is egy összefonódott qubit párt használunk, ezátal a protokoll lehetővé teszi, hogy több bitnek megfelelő információt küldjünk egyetlen fizikai qubit elküldése által. A kommunikáló felek legyenek, a szokásos módon, Alice és Bob. Most nézzük meg hogyan épül fel egy ilyen protkoll. "
   ]
  },
  {
   "cell_type": "markdown",
   "metadata": {},
   "source": [
    "## 2. A protokoll <a id='protokoll'></a>\n",
    "\n",
    "<center> <img src=\"https://qiskit.org/textbook/ch-algorithms/images/superdense.jpg\" width=\"1000\"/> </center>\n",
    "\n",
    "\n",
    "### 1.lépés - 1.feladat: Bell állapot <a id='1'></a>\n",
    "A folyamat egy haramadik féllel kezdődik, aki csak segítőként vesz részt a kommunikációban. Hívjuk öt, Charlinak. Charli létrehoz egy összefonódott qubit párt, melynek egy-egy elemét elküldi Alicenak és Bobnak. Egy összefont qubit párt két qubit alkot, melyeket a kvantum-összefonódás jelensége kapcsol össze. Ilyenkor a két qubit által alkotott teljes rendszer állapotát nem lehet a qubitek kvantumállapotának megadásával leírni. Összefonódás fennállhat egymástól térben távol eső rendszerek között is, így például egy összefont qubit pár egy-egy tagja lehet az egymástól távol elhelyezkedő Alicenál és Bobnál. A protokoll során létrehozott pár egy jól ismert állapotban van, az úgynevezett *Bell állapotban*  $\\left( \\vert\\psi\\rangle =\\frac{1}{\\sqrt{2}}\\left(\\vert00\\rangle + \\vert11\\rangle\\right)\\right)$, ami a qubit pár egy maximálisan összefont állapota. Kezdetben mindkét qubit a $\\ket{0}$ bázisállapotban van. Ezután Charlie alkalmaz egy  CNOT ($CX$) kaput a qubiteken, úgy hogy az első qubit legyen a kontroll, majd egy Hadamard kaput alakalmaz az első qubiten.\n",
    "\n",
    "***Ellenőrizzétek le a Charlie által végzett folyamatot, azaz az alábbi egyenlőség helyességét!***\n",
    "\n",
    "$$\n",
    "CX\\left(H \\otimes I \\left(\\ket{0}_A \\otimes \\ket{0}_B \\right)\\right) = \\frac{1}{\\sqrt{2}}\\left(\\ket{00}+\\ket{11}\\right) = \\frac{1}{\\sqrt{2}}\\left(\\ket{0}_A\\otimes\\ket{0}_B+\\ket{1}_A\\otimes\\ket{1}_B\\right)\n",
    "$$\n",
    "ahol az állapot $A$ illetve $B$ indexe Alicera és Bobra utal, és $\\ket{i}_A\\otimes\\ket{j}_B = \\ket{ij}$."
   ]
  },
  {
   "cell_type": "markdown",
   "metadata": {},
   "source": [
    "<details>\n",
    "    <summary>További segítség a feladat megoldásához.</summary>\n",
    "<p>\n",
    "<li> Bell állapot létrehozásához egy <i>Hadamard</i> és egy <i>CNOT</i> kvantum logikai kapu megfelelő kombinációjára lesz szükségetek. Ezek hatása a kövekező formában adható meg: </li>  \n",
    "Hadamard kapu: \n",
    "    \n",
    "$\n",
    "\\begin{array}{c}\n",
    "    H\\vert0\\rangle = \\frac{1}{\\sqrt{2}}\\left(\\vert0\\rangle + \\vert1\\rangle\\right)\\\\    \n",
    "    H\\vert1\\rangle = \\frac{1}{\\sqrt{2}}\\left(\\vert0\\rangle - \\vert1\\rangle\\right)\\\\\n",
    "\\end{array}\n",
    "$\n",
    "    \n",
    "<a href=\"https://www.quantum-inspire.com/kbase/hadamard/\">További részletek. </a> \n",
    "    \n",
    "    \n",
    "CNOT kapu:\n",
    "\n",
    "$\n",
    "\\begin{array}{c}\n",
    "    CX\\vert00\\rangle = \\vert00\\rangle \\\\\n",
    "    CX\\vert01\\rangle = \\vert01\\rangle \\\\\n",
    "    CX\\vert10\\rangle = \\vert11\\rangle \\\\\n",
    "    CX\\vert11\\rangle = \\vert10\\rangle \\\\\n",
    "\\end{array}\n",
    "$    \n",
    "\n",
    "<a href=\"https://www.quantum-inspire.com/kbase/cnot/\">További részletek. </a> \n",
    "\n",
    "\n",
    "</p>\n",
    "</details>"
   ]
  },
  {
   "cell_type": "markdown",
   "metadata": {
    "colab_type": "text",
    "id": "N5LyBKFXYG41"
   },
   "source": [
    "### 2.lépés - 2.feladat: Alice protokollja<a id='2'></a>\n",
    "\n",
    "Miután mindketten megkapták a Bell pár egy-egy darabját, elkezdődhet a kommunikáció. Ehhez először Alicenak, az üzenet küldőjének, el kell kódolni az üzenetet, azaz a két klasszikus bit értéket a saját qubitjének állapotában. Minden lehetséges üzenetnek megfelel egy előre meghatározott kvantumállapot, az alábbi táblázat szerint. Ezeket a megfelelő kvantum logikai kapuk alkalmazásával állíthatja elő Alice (Alice csak a saját qubitjére tud hatni!).\n",
    "\n",
    "***Égészítsétek ki a következő táblazatot a megfelelő kvantum logikai kapukkal, hogy a helyes kódolást kapjuk!***"
   ]
  },
  {
   "cell_type": "markdown",
   "metadata": {},
   "source": [
    "<details>\n",
    "    <summary>További segítség a feladat megoldásához.</summary>\n",
    "<p>\n",
    "<li> Alice legtöbb két különböző kvantum logikai kaput kell alkalmazzon az állapotok előállításához és ezek a következők lehetnek:</li>\n",
    "    \n",
    "$I$ kapu: $I\\ket{0}=\\ket{1}$ és $I\\ket{1}=\\ket{0}$\n",
    "\n",
    "<a href=\"https://www.quantum-inspire.com/kbase/identity-gate/\">További részletek. </a>  \n",
    "    \n",
    "$X$ kapu: $X\\ket{0}=\\ket{1}$ és $X\\ket{1}=\\ket{0}$\n",
    "    \n",
    "<a href=\"https://www.quantum-inspire.com/kbase/pauli-x/\">További részletek. </a> \n",
    "    \n",
    "$Z$ kapu $Z\\ket{0}=\\ket{0}$ és $Z\\ket{1}=-\\ket{1}$\n",
    "    \n",
    "<a href=\"https://www.quantum-inspire.com/kbase/pauli-z/\">További részletek. </a> \n",
    "</p>\n",
    "\n",
    "Például ha Alice a \"01\" üzenetet szeretné elküldeni akkor egy $X$ kaput kell alkalmaznia, hiszen:\n",
    "    \n",
    "$\n",
    "X \\otimes I \\frac{1}{\\sqrt{2}}\\left(\\ket{00} + \\ket{11} \\right) = X \\otimes I \\frac{1}{\\sqrt{2}}\\left(\\ket{0}_A \\otimes \\ket{0}_B + \\ket{1}_A \\otimes \\ket{1}_B \\right)  = \\frac{1}{\\sqrt{2}}\\left(X \\ket{0}_A \\otimes I \\ket{0}_B + X \\ket{1}_A \\otimes I \\ket{1}_B \\right) = \\frac{1}{\\sqrt{2}}\\left(\\ket{1}_A \\otimes  \\ket{0}_B +  \\ket{0}_A \\otimes  \\ket{1}_B \\right) = \\frac{1}{\\sqrt{2}}\\left(\\ket{10} +  \\ket{01} \\right)\n",
    "$\n",
    "    \n",
    "</details>"
   ]
  },
  {
   "cell_type": "markdown",
   "metadata": {},
   "source": [
    "<table>\n",
    "    <tr>\n",
    "        <th>Üzenet</th>\n",
    "        <th>Alkalmazott kapuk</th>\n",
    "        <th>Kvantumállapot($\\cdot 1/ \\sqrt{2}$)</th>\n",
    "    </tr>\n",
    "    <tr>\n",
    "        <td>00</td>\n",
    "        <td> ? </td>\n",
    "        <td>$|00\\rangle + |11\\rangle$</td>\n",
    "    </tr>\n",
    "    <tr>\n",
    "        <td>01</td>\n",
    "        <td> ? </td>\n",
    "        <td>$|10\\rangle + |01\\rangle$</td>\n",
    "    </tr>\n",
    "    <tr>\n",
    "        <td>10</td>\n",
    "        <td> ? </td>\n",
    "        <td>$|00\\rangle - |11\\rangle$</td>\n",
    "    </tr>\n",
    "    <tr>\n",
    "        <td>11</td>\n",
    "        <td> ? </td>\n",
    "        <td>$-|10\\rangle + |01\\rangle$</td>\n",
    "    </tr>\n",
    "</table>"
   ]
  },
  {
   "cell_type": "markdown",
   "metadata": {},
   "source": [
    "### 3. lépés - 3. feladat: Bob protokollja<a id='2'></a>\n",
    "\n",
    "A protokoll 3. lépésében Bob megkapja Alice qubitjét és a saját qubitjét használva dekódolja az üzenetét. Fontos, hogy Bobnak nem kell ismernie a qubit állapotát csak alkalmaznia kell \"dekódoló\" logikai műveletet. Azaz Bob alakalmaz egy CNOT kaput, ahol Alice qubitje a kontroll, majd egy Hadamard kaput a qubitjén. Végül mérést hajt végre mindkét qubiten. \n",
    "\n",
    "***Elenőrizzétek le, hogy minden lehetséges állapot esetén Bob a megfelő üzenetet dekódolja!***\n",
    "\n"
   ]
  },
  {
   "cell_type": "markdown",
   "metadata": {},
   "source": [
    "<details>\n",
    "    <summary>További segítség a feladat megoldásához.</summary>\n",
    "<p>\n",
    "<li> Például az első állapot esetén:</li>\n",
    "\n",
    "$\n",
    "H \\otimes I \\left(CX\\frac{1}{\\sqrt{2}}\\left(\\ket{00}+\\ket{11}\\right) \\right) = I \\otimes H \\frac{1}{\\sqrt{2}}\\left(\\ket{00}+\\ket{10}\\right) = \\frac{1}{\\sqrt{2}}\\left(\\frac{1}{\\sqrt{2}}\\left(\\ket{0}_A+\\ket{1}_A\\right)\\otimes \\ket{0}_B + \\frac{1}{\\sqrt{2}}\\left(\\ket{0}_A-\\ket{1}_A\\right)\\otimes \\ket{0}_B  \\right) = \\frac{1}{2}\\left(\\ket{0}_A\\otimes\\ket{0}_B + \\ket{1}_A\\otimes\\ket{0}_B + \\ket{0}_A\\otimes\\ket{0}_B - \\ket{1}_A\\otimes\\ket{0}_B \\right) = \\ket{0}_A \\otimes \\ket{0}_B = \\ket{00}\n",
    "$\n",
    "\n",
    "    \n",
    "</details>"
   ]
  },
  {
   "cell_type": "markdown",
   "metadata": {},
   "source": [
    "## 3. Az áramkör - 4. feladat  <a id='áramkör'></a>\n",
    "\n",
    "Most már láttuk a protokoll működését lépésről lépésre, így elkezdhetjük megvalósítani, azaz megépíteni a neki megfelelő kvantum logikai áramkört.\n",
    "\n",
    "***Állítsátok össze a fent felvázolt protokollt megvalósító kvantumáramkört a qiskit segítségével!***\n",
    "- írjatok egy python függvényt, amely a bementként kapott üzenet alapján létrehozza kvantumáramkört"
   ]
  },
  {
   "cell_type": "markdown",
   "metadata": {},
   "source": [
    "<details>\n",
    "    <summary>További segítség a feladat megoldásához.</summary>\n",
    "    \n",
    "<br>\n",
    "<li>a megoldáshoz javasolt modulok:</li>\n",
    "\n",
    "``` python\n",
    "from qiskit import QuantumCircuit, QuantumRegister, ClassicalRegister # áramkör létrehozása\n",
    "from qiskit.visualization import plot_histogram, plot_bloch_multivector # ábrázolás\n",
    "```\n",
    "\n",
    "<br>\n",
    "\n",
    "<li> 2 kvantum és 2 klasszikus regiszterrel rendelkező áramkör létrehozása:</li>\n",
    "    \n",
    "``` python\n",
    "qr = QuantumRegister(2) #kvantum regiszterek létrehozása\n",
    "cr1 = ClassicalRegister(1) #klasszikus regiszter létrehozása\n",
    "cr2 = ClassicalRegister(1) #klasszikus regiszter létrehozása\n",
    "qc = QuantumCircuit(qr,cr1,cr2) #kvantumáramkör létrehozása\n",
    "```      \n",
    "\n",
    "<br>\n",
    "\n",
    "<li>különböző kvantum logikai kapuk és mérések hozzáadása az áramkörhöz:</li>\n",
    "    \n",
    "``` python\n",
    "qc.h(0) # Hadamard kapu az 1. qubiten (a kiválasztott qubit többféleképpen is megadható minden egyqubites kapu esetén, nincs közöttük érdemi különbség)\n",
    "#vagy\n",
    "qc.h(qr[0]) \n",
    "#vagy\n",
    "q0 = qr[0]\n",
    "qc.h(q0)\n",
    "\n",
    "qc.x(0) # X kapu az 1. qubiten \n",
    "\n",
    "qc.z(0) # Z kapu az 1. qubiten\n",
    "\n",
    "qc.u3(theta, phi, lam,, 0) # 3 szögparaméteres (theta, phi, lam) általános forgatás alkalmazása az 1. qubiten\n",
    "\n",
    "qc.cx(0,1) # CNOT (CX) kapu az 1. qubiten a 2. qubit által kontrollálva\n",
    "\n",
    "qc.measure(0,cr1) # az 1. qubit mérése, az eredményt a cr1 klasszikus regiszter fogja tárolni\n",
    "\n",
    "# a szimulált áramkör estén alkalmazhatunk feltételeket\n",
    "qc.x(0).c_if(cr1, 1) # X kapu alkamazása az 1. qubiten ha a cr1 klasszikus regiszter értéke \"1\"\n",
    "    \n",
    "```\n",
    "    \n",
    "<br>\n",
    "\n",
    "<li> az áramkör ábrázolása:</li>\n",
    "    \n",
    "``` python\n",
    "qc.draw(output='mpl') #az áramkör ábrázolása (matplotlib stílusban)\n",
    "qc.draw() #az áramkör ábrázolása (text stílusban)\n",
    "```    \n",
    "<br>\n",
    "    \n",
    "</details>"
   ]
  },
  {
   "cell_type": "code",
   "execution_count": 1,
   "metadata": {},
   "outputs": [],
   "source": [
    "#\n",
    "# megoldás\n",
    "#\n",
    "\n",
    "def encoder(üzenet, áramkör, qubit):\n",
    "    ''' '''\n",
    "    \n",
    "    return qc"
   ]
  },
  {
   "cell_type": "markdown",
   "metadata": {},
   "source": [
    "## 4. A protokoll szimulációja - 5. feladat  <a id='szim'></a>\n",
    "\n",
    "***A megalkotott áramkör működését szimuláljátok az Aer szimulátor segítségével.***\n",
    "- minden lehetséges üzenet esetén ellenőrizzétek le a protokoll működését, azaz a mérési eredményt hasonlítsátok össze a küldött üzenettel"
   ]
  },
  {
   "cell_type": "markdown",
   "metadata": {},
   "source": [
    "<details>\n",
    "    <summary>További segítség a feladat megoldásához.</summary>\n",
    "<li> az áramkör szimulációja</li>\n",
    "\n",
    "    \n",
    "``` python\n",
    "    \n",
    "from qiskit import IBMQ, Aer, transpile, assemble #modulok az áramkör szimulálására és futtatására\n",
    "    \n",
    "sim = Aer.get_backend('aer_simulator') # kiválasztjuk, hogy az Aer szimulátort szeretnénk használni és, hogy az állapotvektorokat akarjuk megkapni eredményül\n",
    "qc.save_statevector()\n",
    "out_vector = sim.run(qc).result().get_statevector() #futtatjuk az áramkört és lekérdezzük az eredményt leíró állapotvektorokat\n",
    "plot_bloch_multivector(out_vector)#ábrázoljuk a kezdeti és végállapotokat a Bloch gömbön\n",
    "```   \n",
    "vagy ha a mérések eredménye érdekel:\n",
    "```python\n",
    "t_qc = transpile(qc, sim) #egy kísérlet létrehozása az általunk létrehozott áramkörből, melyet a kiválasztott backend-en végrehajtunk\n",
    "counts = sim.run(t_qc).result().get_counts() #a kísérlet végrehajtása és a mérési eredmények lekérdezése\n",
    "plot_histogram(counts) #az eredmények ábrázolása hisztogrammal\n",
    "\n",
    "```"
   ]
  },
  {
   "cell_type": "markdown",
   "metadata": {
    "colab_type": "text",
    "id": "fMHrapgKZCpp"
   },
   "source": [
    "## 4. Szupersűrű kódolás valódi kvantumszámítógépeken - 6. feladat <a id='real'></a>\n",
    "\n",
    "Ha a szimuláció eredményei azt mutatták, hogy a létrehozott áramkör jól valósítja meg a protkollt, akkor már csak egy dolog van hátra, hogy a protokollt végrehajtsuk egy valódi kvantumszámítógépen.\n",
    "\n",
    "***Hajtsátok végre a protokollt az egyik elérhető kvantumszámítogépen és értelmezzétek az eredményt!***"
   ]
  },
  {
   "cell_type": "markdown",
   "metadata": {},
   "source": [
    "<details>\n",
    "    <summary>További segítség a feladat megoldásához.</summary>\n",
    "<li> egy áramkör futtatása egy kvantumszámítógépen</li>\n",
    "\n",
    "<br>\n",
    "    \n",
    "``` python\n",
    "from qiskit import IBMQ  #felhasználófiókunk betöltése\n",
    "IBMQ.load_account()\n",
    "from qiskit.providers.ibmq import least_busy #ez a modul segít kiválasztani a legkevésbé foglalt gépet (ahol a legkevesebbet kell várnunk)\n",
    "from qiskit.tools.monitor import job_monitor #ez a modul lehetővé teszi, hogy kövessük az elindított kísérlet állapotát\n",
    "\n",
    "backend = least_busy(provider.backends(filters=lambda x: x.configuration().n_qubits >= 2 and not x.configuration().simulator and x.status().operational==True)) # a megefelelő backend kiválasztása (azaz legkevésbé foglalt, valódi gép, legalább 2 qubitje van)\n",
    "\n",
    "t_qc = transpile(qc, backend) #egy \"kísérlet\" létrehozása az általunk definiált áramkörből (qc) a kiválasztott eszközön (backend)\n",
    "job = backend.run(t_qc) #kísérlet eildítása\n",
    "job_monitor(job)  #a kísérlet állapotának követése\n",
    "\n",
    "\n",
    "exp_result = job.result() # a kísérlet eredményének lekérése\n",
    "exp_counts = exp_result.get_counts(qc) # a mérési eredmények lekérése\n",
    "plot_histogram(exp_counts) # a mérési eredmények ábrázolása hisztogramon\n",
    "```"
   ]
  },
  {
   "cell_type": "code",
   "execution_count": 2,
   "metadata": {},
   "outputs": [],
   "source": [
    "#\n",
    "# megoldás\n",
    "#"
   ]
  }
 ],
 "metadata": {
  "colab": {
   "name": "super-dense-coding.ipynb",
   "provenance": []
  },
  "kernelspec": {
   "display_name": "Python 3",
   "language": "python",
   "name": "python3"
  },
  "language_info": {
   "codemirror_mode": {
    "name": "ipython",
    "version": 3
   },
   "file_extension": ".py",
   "mimetype": "text/x-python",
   "name": "python",
   "nbconvert_exporter": "python",
   "pygments_lexer": "ipython3",
   "version": "3.8.8"
  },
  "widgets": {
   "application/vnd.jupyter.widget-state+json": {
    "state": {},
    "version_major": 2,
    "version_minor": 0
   }
  }
 },
 "nbformat": 4,
 "nbformat_minor": 4
}
