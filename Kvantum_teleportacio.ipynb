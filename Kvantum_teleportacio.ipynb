{
 "cells": [
  {
   "cell_type": "markdown",
   "metadata": {
    "tags": [
     "remove_cell"
    ]
   },
   "source": [
    "# Kvantumos teleportáció\n",
    "\n",
    "$ \\newcommand{\\bra}[1]{\\langle #1|} $\n",
    "$ \\newcommand{\\ket}[1]{|#1\\rangle} $\n",
    "$ \\newcommand{\\braket}[2]{\\langle #1|#2\\rangle} $$ \\newcommand{\\bra}[1]{\\langle #1|} $\n",
    "$ \\newcommand{\\ket}[1]{|#1\\rangle} $\n",
    "$ \\newcommand{\\braket}[2]{\\langle #1|#2\\rangle} $"
   ]
  },
  {
   "cell_type": "markdown",
   "metadata": {},
   "source": [
    "A következő jupyter notebook a kvantumos teleportáció jelenségét muatatja be feladatok által, főként a Qiskit tankönyv és a QBronze tananyag ide vonatkozó részét követve. A feladatok egyike sem kifejezetten nehéz, leginkább a jelenség mélyebb megértését igyekeznek elősegíteni.  Minden feladat után további segítségek vannak a megoldásához, a tapasztaltabbak számára a feladatok ezek nélkül is megoldhatóak.\n",
    "\n",
    "\n",
    "1. [Bevezetés](#bevezetés)    \n",
    "2. [A kvantum teleportáció protokoll](#protokoll)\n",
    "    1. [1. lépés: Bell állapot létrehozása](#bell) \n",
    "    2. [2. lépés: Alice műveletei](#Alice) \n",
    "    3. [3. lépés: Mérés](#mérés) \n",
    "    4. [4. lépés: Dekódolás](#Bob) \n",
    "3. [Kvantumos teleportáció szimulálása](#sim)\n",
    "4. [Kvantumos teleportáció valódi kvantumszámítógépen](#real)\n",
    "\n"
   ]
  },
  {
   "cell_type": "markdown",
   "metadata": {},
   "source": [
    "## 1. Bevezetés <a id='bevezetés'></a>\n",
    "\n",
    "A kvantumos teleportáció egy módzser, mely lehetővé teszi a kvantuminformáció továbbítását a kvantum-összefonódás révén. A kommunikáló felek legyenek, a szokásos módon, Alice és Bob. Tegyük fel, hogy Alice szeretne kvantuminformációt küldeni Bobnak. Azaz szeretné a  $\\vert\\psi\\rangle = \\alpha\\vert0\\rangle + \\beta\\vert1\\rangle$ ( itt $\\alpha$ és $\\beta$ az állapothoz tartozó valószínűségi amplitúdók) kvantumállapotot elküledeni. Ha Alice rendelkezne elegendően sok $\\vert\\psi\\rangle$ állapotú qubittel (kvantum bittel), akkor ezeket megmérve kapna egy, a kvantumállapotot közelítőleg leíró, statisztikát amit már klasszikus bitek formájában továbbíthat Bob számára.\n",
    "\n",
    "Azonban a kvantummechanikában ismert egy tétel (No-cloning Theorem), mely kimondja, hogy nem lehet kvantumállapotokat tökéletesen lemásolni, ez rámutat az azonos (és tetszőleges) állapotú qubitek generálásának nehézségeire is.\n",
    "\n",
    "A kvantum teleportáció protokoll erre a problémára kínál egy megoldást, klasszikus kommunikáció és egy összefont qubit pár segítségével. A folyamat végén Bob rendelkezni fog egy $\\vert\\psi\\rangle$ állapotú qubittel, azonban Alice már nem, ezért nevezhetjük teleportációnak a folyamatot."
   ]
  },
  {
   "cell_type": "markdown",
   "metadata": {
    "tags": []
   },
   "source": [
    "## 2. A kvantum teleportáció protokoll <a id='protokoll'></a>\n",
    "\n",
    "Mint említettük a qubit továbbítására egy összefonódott qubit párt használunk, azaz Alicenak és Bobnak szüksége lesz egy harmadik félre (Telamon), aki létrehozza ezt a qubit párt és egyet-egyet elküld nekik. A protokoll során Alice végrehajt bizonyos műveleteket a qubitjain (az elküldeni kívánt állapotban lévő qubiten és az összefonódott pár nála lévő felén) és megméri, az eredményt klasszikus bitek formájában továbbítja Bob-nak, aki majd ez alapján műveleteket hajt végre a saját qubitján, hogy megkapja az eredeti állapotot. A protokoll során csak lokális műveleteket és klasszikus kommunikációt hajtanak végre, mégis képesek továbbítani egy qubit  kvantumállapotát."
   ]
  },
  {
   "cell_type": "markdown",
   "metadata": {},
   "source": [
    "<center> <img src=\"https://qiskit.org/textbook/ch-algorithms/images/tele1.jpg\" width=\"500\"/> </center>"
   ]
  },
  {
   "cell_type": "markdown",
   "metadata": {},
   "source": [
    "A protokoll 4 fő lépésre osztható. Most nézzük meg ezeket sorra.\n",
    "\n",
    "### 1. lépés - 1. feladat: Bell állapot létrehozása <a id='bell'></a>\n",
    "\n",
    "A harmadik fél, Telamon, aki csak segítőként vesz részt a kommunikációban létrehoz egy összefont qubit párt. Egy  összefont qubit párt két qubit alkot melyeket a kvantum-összefonódás jelensége kapcsol össze. Ilyenkor a két qubit által alkotott teljes rendszer állapotát nem lehet a qubitek kvantumállapotának megadásával leírni. Összefonódás fennállhat egymástól térben távol eső rendszerek között is, így például egy összefont qubit pár egy-egy tagja lehet az egymástól távol elhelyezkedő Alicenál és Bobnál.\n",
    "\n",
    "A protokoll során létrehozott pár egy jól ismert állapotban van, az úgynevezett *Bell állapotban*  $\\left( \\vert\\psi\\rangle =\\frac{1}{\\sqrt{2}}\\left(\\vert00\\rangle + \\vert11\\rangle\\right)\\right)$ ami a qubit pár egy maximálisan összefont állapota.\n",
    "\n",
    "***Javasoljatok egy kvantum áramkört, amely két  $\\vert0\\rangle$ állapotú qubitből létrehoz egy Bell párt!***\n"
   ]
  },
  {
   "cell_type": "markdown",
   "metadata": {},
   "source": [
    "<details>\n",
    "    <summary>További segítség a feladat megoldásához.</summary>\n",
    "<p>\n",
    "<li> Bell állapot létrehozásához egy <i>Hadamard</i> és egy <i>CNOT</i> kvantum logikai kapu megfelelő kombinációra lesz szükségetek. Ezek hatása a kövekező formában adható meg: </li>  \n",
    "Hadamard kapu: \n",
    "    \n",
    "$\n",
    "\\begin{array}{c}\n",
    "    H\\vert0\\rangle = \\frac{1}{\\sqrt{2}}\\left(\\vert0\\rangle + \\vert1\\rangle\\right)\\\\    \n",
    "    H\\vert1\\rangle = \\frac{1}{\\sqrt{2}}\\left(\\vert0\\rangle - \\vert1\\rangle\\right)\\\\\n",
    "\\end{array}\n",
    "$\n",
    "    \n",
    "<a href=\"https://www.quantum-inspire.com/kbase/hadamard/\">További részletek. </a> \n",
    "    \n",
    "    \n",
    "CNOT kapu:\n",
    "\n",
    "$\n",
    "\\begin{array}{c}\n",
    "    CX\\vert00\\rangle = \\vert00\\rangle \\\\\n",
    "    CX\\vert01\\rangle = \\vert01\\rangle \\\\\n",
    "    CX\\vert10\\rangle = \\vert11\\rangle \\\\\n",
    "    CX\\vert11\\rangle = \\vert10\\rangle \\\\\n",
    "\\end{array}\n",
    "$    \n",
    "\n",
    "<a href=\"https://www.quantum-inspire.com/kbase/cnot/\">További részletek. </a> \n",
    "\n",
    "<li> Megjegyzés: $\\ket{00}=\\ket{0}\\ket{0}$  és $G_1\\otimes G_2 \\ket{00}= G_1\\ket{0}G_2\\ket{0}$, ahol $G_1$ és $G_2$ kvantumkapuk hatását írják le.</li>  \n",
    "</p>\n",
    "</details>"
   ]
  },
  {
   "cell_type": "markdown",
   "metadata": {
    "tags": []
   },
   "source": [
    "### 2. lépés - 2. feladat: Alice műveletei <a id='Alice'></a>\n",
    "\n",
    "A protokoll során összesen 3 qubitre van szükség, nevezzük ezeket az egyértelműség kedvéért $q_1$,$q_2$ és $q_3$-nak. Mint láttuk az első lépés során Alice és Bob is kap egy összefonódott qubit párt, ezek a $q_2$ és $q_3$ qubitek. Az első qubit pedig \"tárolja\" az állapotot ami Alice szeretne tovább küldeni. Így a 3 qubit kezdeti állapota\n",
    "\n",
    "$$\n",
    "\\left(\\alpha \\vert0\\rangle + \\beta \\vert1\\rangle \\right) \\left(\\frac{1}{\\sqrt{2}} \\vert00\\rangle + \\frac{1}{\\sqrt{2}} \\vert11\\rangle\\right)  = \\frac{1}{\\sqrt{2}}\\left(\\alpha\\vert000\\rangle + \\alpha \\vert011\\rangle + \\beta \\vert100\\rangle + \\beta \\vert111\\rangle \\right)\n",
    "$$\n",
    "\n",
    "\n",
    "A második lépés során Alice alkalmaz egy CNOT kaput $q_2$-re, amely az üzenetet tartalmazó $q_1$ qubit által van kontrollálva, majd alkalmaz egy Hadamard kaput a $q_1$-en.\n",
    "\n",
    "***Adjátok meg a három qubit állapotát a CNOT, majd a Hadamard kapu alkalmazása után!***"
   ]
  },
  {
   "cell_type": "markdown",
   "metadata": {},
   "source": [
    "<details>\n",
    "    <summary>További segítség a feladat megoldásához.</summary>\n",
    "<p>\n",
    "<li> A <i>Hadamard</i> és a <i>CNOT</i> kvantum logikai kapuk hatása a kövekező formában adható meg:</li>\n",
    "Hadamard kapu:\n",
    "    \n",
    "$\n",
    "\\begin{array}{c}\n",
    "    H\\vert0\\rangle = \\frac{1}{\\sqrt{2}}\\left(\\vert0\\rangle + \\vert1\\rangle\\right)\\\\    \n",
    "    H\\vert1\\rangle = \\frac{1}{\\sqrt{2}}\\left(\\vert0\\rangle - \\vert1\\rangle\\right)\\\\\n",
    "\\end{array}\n",
    "$\n",
    "    \n",
    "CNOT kapu:\n",
    "    \n",
    "$\n",
    "\\begin{array}{c}\n",
    "    CNOT\\vert00\\rangle = \\vert00\\rangle \\\\\n",
    "    CNOT\\vert01\\rangle = \\vert01\\rangle \\\\\n",
    "    CNOT\\vert10\\rangle = \\vert11\\rangle \\\\\n",
    "    CNOT\\vert11\\rangle = \\vert10\\rangle \\\\\n",
    "\\end{array}\n",
    "$    \n",
    "    \n",
    "<li> a Hadamard kapu alkalmazása után az állapot az allábi formában kell megadható legyen:</li>\n",
    "<br>\n",
    "    \n",
    "$\n",
    "    \\frac{1}{2} \\ket{00} \\big( \\alpha\\ket{0}+\\beta\\ket{1} \\big) +\n",
    "    \\frac{1}{2} \\ket{01} \\big( \\alpha\\ket{1}+\\beta\\ket{0} \\big) +\n",
    "    \\frac{1}{2} \\ket{10} \\big( \\alpha\\ket{0}-\\beta\\ket{1} \\big) +\n",
    "    \\frac{1}{2} \\ket{11} \\big( \\alpha\\ket{1}-\\beta\\ket{0} \\big) \n",
    "$\n",
    "</p>\n",
    "</details>\n",
    "\n"
   ]
  },
  {
   "cell_type": "markdown",
   "metadata": {},
   "source": [
    "-------------------------------\n",
    "\n",
    "$\n",
    "CX_{q_1,q_2}\\frac{1}{\\sqrt{2}}\\left(\\alpha\\vert000\\rangle + \\alpha \\vert011\\rangle + \\beta \\vert100\\rangle + \\beta \\vert111\\rangle \\right) =\\, ?\n",
    "$\n",
    "\n",
    "$\n",
    "H_{q_1}\\left(CX_{q_1,q_2}\\frac{1}{\\sqrt{2}}\\left(\\alpha\\vert000\\rangle + \\alpha \\vert011\\rangle + \\beta \\vert100\\rangle + \\beta \\vert111\\rangle \\right)\\right) =\\, ?\n",
    "$\n",
    "\n",
    "ahol $CX_{q_1,q_2} = CX\\otimes I$ és $H_{q_1} = H\\otimes I \\otimes I$\n",
    "\n",
    "----------------------------------------\n"
   ]
  },
  {
   "cell_type": "markdown",
   "metadata": {},
   "source": [
    "### 3. lépés - 3. feladat: Mérés <a id='mérés'></a>\n",
    "\n",
    "A 3. lépésben Alice megméri mindkét qubitjét ($q_1$ és $q_2$), majd az eredményt elküldi Bobnak. Alice az összes lehetséges bázisállapotot ($\\left\\{00, 01, 10, 11 \\right\\}$) azonos valószinűséggel mérheti.\n",
    "\n",
    "***Milyen állapotban lehet Bob qubitje a mérés eredményének függvényében?***"
   ]
  },
  {
   "cell_type": "markdown",
   "metadata": {},
   "source": [
    "<details>\n",
    "    <summary>További segítség a feladat megoldásához.</summary>\n",
    "<p>\n",
    "<li> Ha például Alice 00-át mért akkor a $q_3$ állapota:</li>\n",
    "    \n",
    "$\n",
    "    \\bbox[lightblue, 4pt]{{\\frac{1}{2}} \\ket{00} \\big( \\alpha\\ket{0}+\\beta\\ket{1} \\big)} +\n",
    "    \\frac{1}{2} \\ket{01} \\big( \\alpha\\ket{1}+\\beta\\ket{0} \\big) +\n",
    "    \\frac{1}{2} \\ket{10} \\big( \\alpha\\ket{0}-\\beta\\ket{1} \\big) +\n",
    "    \\frac{1}{2} \\ket{11} \\big( \\alpha\\ket{1}-\\beta\\ket{0} \\big) \\Rightarrow q_3: \\alpha\\ket{0}+\\beta\\ket{1} \n",
    "$    \n",
    "</p>\n",
    "</details>"
   ]
  },
  {
   "cell_type": "markdown",
   "metadata": {},
   "source": [
    "\n",
    "|$q_1$|$q_2$|$q_3$|\n",
    "|-|-|-|\n",
    "|0|0|?|\n",
    "|0|1|?|\n",
    "|1|0|?|\n",
    "|1|1|?|\n",
    "\n"
   ]
  },
  {
   "cell_type": "markdown",
   "metadata": {},
   "source": [
    "### 4. lépés - 4. feladat: Dekódolás <a id='Bob'></a>\n",
    "\n",
    "Az első 3 lépés után Bob rendelkezik a $q_3$ qubittel és klasszikus kommunikáció révén megkapta Alice méréseinek eredményeit, ekkor a protokoll utolsó lépésében a megfelelő kapukat alkalmazva a qubitjén előállíthatja az eredeti $\\ket{\\psi}$ állapotot.\n",
    "\n",
    "***Minden lehetséges mérési eredmény esetén határozzátok meg a műveleteket, amelyekkel Bob elő tudja állítani a keresett állapotot!***"
   ]
  },
  {
   "cell_type": "markdown",
   "metadata": {},
   "source": [
    "<details>\n",
    "    <summary>További segítség a feladat megoldásához.</summary>\n",
    "<p>\n",
    "<li> Bobnak legtöbb két különböző kvantum logikai kapura van szüksége az állapotok előállításhoz és ezek a következők lehetnek:</li>\n",
    "\n",
    "$I$ kapu: $I\\ket{0}=\\ket{1}$ és $I\\ket{1}=\\ket{0}$\n",
    "\n",
    "<a href=\"https://www.quantum-inspire.com/kbase/identity-gate/\">További részletek. </a>  \n",
    "    \n",
    "$X$ kapu: $X\\ket{0}=\\ket{1}$ és $X\\ket{1}=\\ket{0}$\n",
    "    \n",
    "<a href=\"https://www.quantum-inspire.com/kbase/pauli-x/\">További részletek. </a> \n",
    "    \n",
    "$Z$ kapu $Z\\ket{0}=\\ket{0}$ és $Z\\ket{1}=-\\ket{1}$\n",
    "    \n",
    "<a href=\"https://www.quantum-inspire.com/kbase/pauli-z/\">További részletek. </a> \n",
    "</p>\n",
    "    \n",
    "    \n",
    "</details>\n"
   ]
  },
  {
   "cell_type": "markdown",
   "metadata": {},
   "source": [
    "----------------------\n",
    "00 $\\rightarrow$ ?\n",
    "\n",
    "01 $\\rightarrow$ ?\n",
    "\n",
    "10 $\\rightarrow$ ?\n",
    "\n",
    "11 $\\rightarrow$ ?\n",
    "\n",
    "---------------------"
   ]
  },
  {
   "cell_type": "markdown",
   "metadata": {},
   "source": [
    "## 3. Kvantumos teleportáció szimulálása - 5. feladat <a id='sim'></a>\n",
    "\n",
    "Egy, a fenti négy lépést megvalósító protokoll képes \"teleportálni\" egy kvatum állapotot egy qubitről a másikra csak lokális műveleteket és klasszikus komunikációt használva. Ahogyan láttuk az utolsó qubiten olyan műveleteket kellett alkalmaznunk amelyek függtek a másik két qubit mért állapotától.\n",
    "\n",
    "Most, hogy végimentünk a protokoll lépésein itt az ideje hogy összeállítsuk az azt megvlósító logiakai áramkört.\n",
    "\n",
    "***Hozzatok létre a qiskit segítségevel egy kvantum áramkört, amely megvalósítja a fenti protokollt!***\n",
    "- az áramkör tartalmazzon 3 kvantum regisztert és 2 klasszikus regisztert\n",
    "- alkalmazzatok az első  qubit-en forgatásokat, így kialakítva egy tetszőleges kezdeti állapotot (ezt az állapotot küldjük el)\n",
    "- a protokollnak tartalmaznia kell két mérést\n",
    "- és két kvantum kaput, amelyek alkalmazása a mérés eredményétől függ\n",
    "\n",
    "***Az áramkör megalkotása után szimuláljuk annak működését az Aer szimulátor segítségével!***\n",
    "- a szimulátor segítségével ellenőrizzük le az áramkör működését a qubitek protokoll alakalmazása utáni állapotának ellenőrzése által"
   ]
  },
  {
   "cell_type": "markdown",
   "metadata": {},
   "source": [
    "<details>\n",
    "    <summary>További segítség a feladat megoldásához.</summary>\n",
    "    \n",
    "<br>\n",
    "<li>a megoldáshoz javasolt modulok:</li>\n",
    "\n",
    "``` python\n",
    "from qiskit import QuantumCircuit, QuantumRegister, ClassicalRegister # áramkör létrehozása\n",
    "from qiskit import IBMQ, Aer, transpile, assemble #áramkör szimulálása és futtatása\n",
    "from qiskit.visualization import plot_histogram, plot_bloch_multivector # ábrázolás\n",
    "```\n",
    "\n",
    "<br>\n",
    "\n",
    "<li> 3 kvantum és 2 klasszikus regiszterrel rendelkező áramkör létrehozása:</li>\n",
    "    \n",
    "``` python\n",
    "qr = QuantumRegister(3) #kvantum regiszterek létrehozása\n",
    "cr1 = ClassicalRegister(1) #klasszikus regiszter létrehozása\n",
    "cr2 = ClassicalRegister(1) #klasszikus regiszter létrehozása\n",
    "qc = QuantumCircuit(qr,cr1,cr2) #kvantum áramkör létrehozása\n",
    "```      \n",
    "\n",
    "<br>\n",
    "\n",
    "<li>különböző kvantum logikai kapuk és mérések hozzáadása az áramkörhöz:</li>\n",
    "    \n",
    "``` python\n",
    "qc.h(0) # Hadamard kapu az 1. qubiten (a kiválasztott qubit többféleképpen is megadható minden egyqubites kapu estén, nincs közöttük érdemi különbség)\n",
    "#vagy\n",
    "qc.h(qr[0]) \n",
    "#vagy\n",
    "q0 = qr[0]\n",
    "qc.h(q0)\n",
    "\n",
    "qc.x(0) # X kapu a 1. qubiten \n",
    "\n",
    "qc.z(0) # Z kapu a 1. qubiten\n",
    "\n",
    "qc.u3(theta, phi, lam,, 0) # 3 szögparaméteres (theta, phi, lam) általános forgatás alkalmazása a 1. qubiten\n",
    "\n",
    "qc.cx(0,1) # CNOT (CX) kapu az 1. qubiten a 2. qubit által kontrollálva\n",
    "\n",
    "qc.measure(0,cr1) # az 1. qubit mérése, az eredményt a cr1 klasszikus regiszter fogja tárolni\n",
    "\n",
    "# a szimulált áramkör estén alkalmazhatunk feltételeket\n",
    "qc.x(0).c_if(cr1, 1) # X kapu alkalmazása az 1. qubiten ha a cr1 klasszikus regiszter értéke \"1\"\n",
    "    \n",
    "```\n",
    "    \n",
    "<br>\n",
    "\n",
    "<li> az áramkör ábrázolása:</li>\n",
    "    \n",
    "``` python\n",
    "qc.draw(output='mpl') #az áramkör ábrázolása (matplotlib stílusban)\n",
    "qc.draw() #az áramkör ábrázolása (text stílusban)\n",
    "```    \n",
    "<br>\n",
    "\n",
    "<li> az áramkör szimulációja</li>\n",
    "\n",
    "    \n",
    "``` python\n",
    "sim = Aer.get_backend('aer_simulator') # kiválasztjuk, hogy az Aer szimulátort szeretnénk használni és, hogy az állapotvektorokat akarjuk megkapni eredményül\n",
    "qc.save_statevector()\n",
    "out_vector = sim.run(qc).result().get_statevector() #futtatjuk az áramkört és lekérdezzük az eredményt leíró állapotvektorokat\n",
    "plot_bloch_multivector(out_vector) #ábrázoljuk a kezdeti és végállapotokat a Bloch gömbön\n",
    "```   \n",
    "\n",
    "<br>\n",
    "- ha hozzáadunk az áramkörhöz még egy a qr[2]-ön végrehajtott mérést akkor a legvégén az állapotvektor lekérdezése helyett vizsgálhatjuk a mérés eredményét is\n",
    "- ehhez hozzá kell adnunk még egy klasszikus regisztert, amely a mérés eredményét fogja tárolni\n",
    "\n",
    "```python\n",
    "t_qc = transpile(qc, sim) #egy kísérlet létrehozása az általunk létrehozott áramkörből, melyet a kiválasztott backend-en végrehajtunk\n",
    "counts = sim.run(t_qc).result().get_counts() #a kísérlet végrehajtása és a mérési eredmények lekérdezése\n",
    "# a counts tartalmazza mindhárom qubit mért értékeit a kísérlet végén\n",
    "qubit_counts = [marginal_counts(counts, [qubit]) for qubit in range(3)] #a mérések eredménye a különböző qubitekre vonatkoztatva\n",
    "plot_histogram(counts) #az eredmények ábrázolása hisztogrammal\n",
    "plot_histogram(qubit_counts)\n",
    "```\n",
    "    \n",
    "</details>"
   ]
  },
  {
   "cell_type": "code",
   "execution_count": 1,
   "metadata": {},
   "outputs": [],
   "source": [
    "#\n",
    "# Megoldás\n",
    "#"
   ]
  },
  {
   "cell_type": "markdown",
   "metadata": {
    "tags": []
   },
   "source": [
    "## 4. Kvantumos teleportáció valódi kvantumszámítógépen  - 6. feladat <a id='real'></a>\n",
    "\n",
    "***Ha szükséges alakítsátok át az áramkört, hogy futtatni lehessen az IBM valamelyik kvantumszámítógépén!*** \n",
    "\n",
    "***Hajtsátok végre a protokollt az egyik elérhető kvantumszámítogépen és értelmezzétek az eredményt!***\n"
   ]
  },
  {
   "cell_type": "markdown",
   "metadata": {},
   "source": [
    "<details>\n",
    "    <summary>További segítség a feladat megoldásához.</summary>\n",
    "<li> Az IBM jelenlegi kvantumszámítógépei nem teszik lehetővé, hogy egy áramkörben mérések után további műveleteket hajtsunk végre, így nem tudunk végrehajtani olyan logikai kapukat, melyek korábbi mérések eredményétől függenek. Azonban van rá mód, hogy ezeket a műveleteket helyettesítjük kontrollált kapukkal. Ezek a kapuk két qubiten hatnak és a CNOT kapuhoz hasonlóan az egyik qubit a kontroll szerepét tölti be. </li>\n",
    "    \n",
    "<br>    \n",
    "Így például a\n",
    "    \n",
    "```python\n",
    "qc.measure(0, cr1)\n",
    "qc.z(1).c_if(cr1, 1)\n",
    "```\n",
    "    \n",
    "kombináció helyettesíthető a\n",
    "```python\n",
    "qc.cz(0,1)\n",
    "```\n",
    "konrollált z kapuval. És így az áramkörben csak egyetlen mérés fog szerepelni a protokoll legvégén.\n",
    "\n",
    "    \n",
    "<li> egy áramkör futtatása egy kvantumszámítógépen:</li>\n",
    "\n",
    "<br>\n",
    "    \n",
    "``` python\n",
    "from qiskit import IBMQ  #felhasználó fiókunk betöltése\n",
    "IBMQ.load_account()\n",
    "from qiskit.providers.ibmq import least_busy #ez a modul segít kiválasztani a legkevésbóbé foglalt gépet (ahol a legkevesebbet kell várnunk)\n",
    "from qiskit.tools.monitor import job_monitor #ez a modul lehetővé teszi hogy kövessük az elindított kísérlet állapotát\n",
    "\n",
    "backend = least_busy(provider.backends(filters=lambda x: x.configuration().n_qubits >= 2 and not x.configuration().simulator and x.status().operational==True)) # a megefelelő backend kiválasztása (azaz a legkevésbbé foglalt, valódi gép, legalább 2 qubitje van)\n",
    "\n",
    "t_qc = transpile(qc, backend) #egy \"kísérlet\" létrehozása az általunk definiált áramkörből (qc) a kiválasztott eszközön (backend)\n",
    "job = backend.run(t_qc) #kísérlet eilditása\n",
    "job_monitor(job)  #a kísérlet állapotának követése\n",
    "\n",
    "\n",
    "exp_result = job.result() # a kísérlet eredményének lekérése\n",
    "exp_counts = exp_result.get_counts(qc) # a mérési eredmények lekérése\n",
    "plot_histogram(exp_counts) # a mérési eredmények ábrázolása hisztogramon\n",
    "```"
   ]
  },
  {
   "cell_type": "code",
   "execution_count": 2,
   "metadata": {},
   "outputs": [],
   "source": [
    "#\n",
    "# megoldás\n",
    "#"
   ]
  }
 ],
 "metadata": {
  "kernelspec": {
   "display_name": "Python 3",
   "language": "python",
   "name": "python3"
  },
  "language_info": {
   "codemirror_mode": {
    "name": "ipython",
    "version": 3
   },
   "file_extension": ".py",
   "mimetype": "text/x-python",
   "name": "python",
   "nbconvert_exporter": "python",
   "pygments_lexer": "ipython3",
   "version": "3.8.8"
  },
  "widgets": {
   "application/vnd.jupyter.widget-state+json": {
    "state": {},
    "version_major": 2,
    "version_minor": 0
   }
  }
 },
 "nbformat": 4,
 "nbformat_minor": 4
}
